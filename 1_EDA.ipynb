{
 "cells": [
  {
   "cell_type": "markdown",
   "id": "7ccdfc08",
   "metadata": {},
   "source": [
    "# 탐색적 데이터 분석\n",
    "> EDA (Exploratory Data Analysis)\n",
    "\n",
    "크게 요약/시각화로 나뉜다. 수리적 분석인 머신러닝과 다르게 컴퓨터가 필요한 계산은 없지만, 1차적으로 데이터의 출처와 주제에 대해 이해하고 구성 요소인 피처를 살펴본다. 피처의 속성을 탐색함으로써 머신러닝에 사용할 변수의 인사이트를 얻을 수 있다"
   ]
  },
  {
   "cell_type": "markdown",
   "id": "feb2d511",
   "metadata": {},
   "source": [
    "> anaconda 환경 실행후 사용잊지말자..! (내 맥은 소중하니까) 환경이름은 'dacon'"
   ]
  },
  {
   "cell_type": "markdown",
   "id": "2058b129",
   "metadata": {},
   "source": [
    "# 패키지 설치"
   ]
  },
  {
   "cell_type": "code",
   "execution_count": null,
   "id": "b2189b8e",
   "metadata": {},
   "outputs": [],
   "source": [
    "# pandas\n",
    "!pip install pandas\n",
    "# numpy\n",
    "!pip install numpy\n",
    "# seaborn\n",
    "!pip install seaborn\n",
    "# scikit-learn\n",
    "!pip install scikit-learn\n",
    "# geopy\n",
    "!pip install geopy\n",
    "# XGBoost\n",
    "!pip install xgboost\n",
    "# lightGBM\n",
    "!pip install lightgbm"
   ]
  },
  {
   "cell_type": "markdown",
   "id": "18608524",
   "metadata": {},
   "source": [
    "# 데이터 불러오기"
   ]
  },
  {
   "cell_type": "code",
   "execution_count": 61,
   "id": "50e34741",
   "metadata": {},
   "outputs": [],
   "source": [
    "# 작업 경로 설정\n",
    "import os\n",
    "os.chdir(r\"/Users/hmp/local/repos/dacon/퇴근시간버스승차인원예측\")"
   ]
  },
  {
   "cell_type": "code",
   "execution_count": 62,
   "id": "adc6b9ec",
   "metadata": {},
   "outputs": [],
   "source": [
    "import pandas as pd\n",
    "\n",
    "train = pd.read_csv('secu_data/train.csv')\n",
    "test = pd.read_csv('secu_data/test.csv')\n",
    "bts= pd.read_csv('secu_data/bus_bts.csv')\n",
    "jeju_life = pd.read_csv('secu_data/jeju_financial_life_data.csv')\n",
    "weather = pd.read_csv('weather.csv', encoding='cp949')\n",
    "rain = pd.read_csv('rain.csv', encoding='utf-8')"
   ]
  },
  {
   "cell_type": "markdown",
   "id": "0ac10bf5",
   "metadata": {},
   "source": [
    "# EDA - Summary"
   ]
  },
  {
   "cell_type": "markdown",
   "id": "c8fce560",
   "metadata": {},
   "source": [
    "# train.csv 살펴보기"
   ]
  },
  {
   "cell_type": "code",
   "execution_count": 63,
   "id": "b24162f0",
   "metadata": {},
   "outputs": [
    {
     "data": {
      "text/html": [
       "<div>\n",
       "<style scoped>\n",
       "    .dataframe tbody tr th:only-of-type {\n",
       "        vertical-align: middle;\n",
       "    }\n",
       "\n",
       "    .dataframe tbody tr th {\n",
       "        vertical-align: top;\n",
       "    }\n",
       "\n",
       "    .dataframe thead th {\n",
       "        text-align: right;\n",
       "    }\n",
       "</style>\n",
       "<table border=\"1\" class=\"dataframe\">\n",
       "  <thead>\n",
       "    <tr style=\"text-align: right;\">\n",
       "      <th></th>\n",
       "      <th>id</th>\n",
       "      <th>date</th>\n",
       "      <th>bus_route_id</th>\n",
       "      <th>in_out</th>\n",
       "      <th>station_code</th>\n",
       "      <th>station_name</th>\n",
       "      <th>latitude</th>\n",
       "      <th>longitude</th>\n",
       "      <th>6~7_ride</th>\n",
       "      <th>7~8_ride</th>\n",
       "      <th>...</th>\n",
       "      <th>9~10_ride</th>\n",
       "      <th>10~11_ride</th>\n",
       "      <th>11~12_ride</th>\n",
       "      <th>6~7_takeoff</th>\n",
       "      <th>7~8_takeoff</th>\n",
       "      <th>8~9_takeoff</th>\n",
       "      <th>9~10_takeoff</th>\n",
       "      <th>10~11_takeoff</th>\n",
       "      <th>11~12_takeoff</th>\n",
       "      <th>18~20_ride</th>\n",
       "    </tr>\n",
       "  </thead>\n",
       "  <tbody>\n",
       "    <tr>\n",
       "      <th>0</th>\n",
       "      <td>0</td>\n",
       "      <td>2019-09-01</td>\n",
       "      <td>4270000</td>\n",
       "      <td>시외</td>\n",
       "      <td>344</td>\n",
       "      <td>제주썬호텔</td>\n",
       "      <td>33.48990</td>\n",
       "      <td>126.49373</td>\n",
       "      <td>0.0</td>\n",
       "      <td>1.0</td>\n",
       "      <td>...</td>\n",
       "      <td>5.0</td>\n",
       "      <td>2.0</td>\n",
       "      <td>6.0</td>\n",
       "      <td>0.0</td>\n",
       "      <td>0.0</td>\n",
       "      <td>0.0</td>\n",
       "      <td>0.0</td>\n",
       "      <td>0.0</td>\n",
       "      <td>0.0</td>\n",
       "      <td>0.0</td>\n",
       "    </tr>\n",
       "    <tr>\n",
       "      <th>1</th>\n",
       "      <td>1</td>\n",
       "      <td>2019-09-01</td>\n",
       "      <td>4270000</td>\n",
       "      <td>시외</td>\n",
       "      <td>357</td>\n",
       "      <td>한라병원</td>\n",
       "      <td>33.48944</td>\n",
       "      <td>126.48508</td>\n",
       "      <td>1.0</td>\n",
       "      <td>4.0</td>\n",
       "      <td>...</td>\n",
       "      <td>2.0</td>\n",
       "      <td>5.0</td>\n",
       "      <td>6.0</td>\n",
       "      <td>0.0</td>\n",
       "      <td>0.0</td>\n",
       "      <td>0.0</td>\n",
       "      <td>0.0</td>\n",
       "      <td>0.0</td>\n",
       "      <td>0.0</td>\n",
       "      <td>5.0</td>\n",
       "    </tr>\n",
       "    <tr>\n",
       "      <th>2</th>\n",
       "      <td>2</td>\n",
       "      <td>2019-09-01</td>\n",
       "      <td>4270000</td>\n",
       "      <td>시외</td>\n",
       "      <td>432</td>\n",
       "      <td>정존마을</td>\n",
       "      <td>33.48181</td>\n",
       "      <td>126.47352</td>\n",
       "      <td>1.0</td>\n",
       "      <td>1.0</td>\n",
       "      <td>...</td>\n",
       "      <td>2.0</td>\n",
       "      <td>0.0</td>\n",
       "      <td>0.0</td>\n",
       "      <td>0.0</td>\n",
       "      <td>0.0</td>\n",
       "      <td>0.0</td>\n",
       "      <td>0.0</td>\n",
       "      <td>0.0</td>\n",
       "      <td>0.0</td>\n",
       "      <td>2.0</td>\n",
       "    </tr>\n",
       "    <tr>\n",
       "      <th>3</th>\n",
       "      <td>3</td>\n",
       "      <td>2019-09-01</td>\n",
       "      <td>4270000</td>\n",
       "      <td>시내</td>\n",
       "      <td>1579</td>\n",
       "      <td>제주국제공항(600번)</td>\n",
       "      <td>33.50577</td>\n",
       "      <td>126.49252</td>\n",
       "      <td>0.0</td>\n",
       "      <td>17.0</td>\n",
       "      <td>...</td>\n",
       "      <td>26.0</td>\n",
       "      <td>14.0</td>\n",
       "      <td>16.0</td>\n",
       "      <td>0.0</td>\n",
       "      <td>0.0</td>\n",
       "      <td>0.0</td>\n",
       "      <td>0.0</td>\n",
       "      <td>0.0</td>\n",
       "      <td>0.0</td>\n",
       "      <td>53.0</td>\n",
       "    </tr>\n",
       "    <tr>\n",
       "      <th>4</th>\n",
       "      <td>4</td>\n",
       "      <td>2019-09-01</td>\n",
       "      <td>4270000</td>\n",
       "      <td>시내</td>\n",
       "      <td>1646</td>\n",
       "      <td>중문관광단지입구</td>\n",
       "      <td>33.25579</td>\n",
       "      <td>126.41260</td>\n",
       "      <td>0.0</td>\n",
       "      <td>0.0</td>\n",
       "      <td>...</td>\n",
       "      <td>0.0</td>\n",
       "      <td>0.0</td>\n",
       "      <td>0.0</td>\n",
       "      <td>0.0</td>\n",
       "      <td>0.0</td>\n",
       "      <td>0.0</td>\n",
       "      <td>1.0</td>\n",
       "      <td>0.0</td>\n",
       "      <td>0.0</td>\n",
       "      <td>0.0</td>\n",
       "    </tr>\n",
       "  </tbody>\n",
       "</table>\n",
       "<p>5 rows × 21 columns</p>\n",
       "</div>"
      ],
      "text/plain": [
       "   id        date  bus_route_id in_out  station_code  station_name  latitude  \\\n",
       "0   0  2019-09-01       4270000     시외           344         제주썬호텔  33.48990   \n",
       "1   1  2019-09-01       4270000     시외           357          한라병원  33.48944   \n",
       "2   2  2019-09-01       4270000     시외           432          정존마을  33.48181   \n",
       "3   3  2019-09-01       4270000     시내          1579  제주국제공항(600번)  33.50577   \n",
       "4   4  2019-09-01       4270000     시내          1646      중문관광단지입구  33.25579   \n",
       "\n",
       "   longitude  6~7_ride  7~8_ride  ...  9~10_ride  10~11_ride  11~12_ride  \\\n",
       "0  126.49373       0.0       1.0  ...        5.0         2.0         6.0   \n",
       "1  126.48508       1.0       4.0  ...        2.0         5.0         6.0   \n",
       "2  126.47352       1.0       1.0  ...        2.0         0.0         0.0   \n",
       "3  126.49252       0.0      17.0  ...       26.0        14.0        16.0   \n",
       "4  126.41260       0.0       0.0  ...        0.0         0.0         0.0   \n",
       "\n",
       "   6~7_takeoff  7~8_takeoff  8~9_takeoff  9~10_takeoff  10~11_takeoff  \\\n",
       "0          0.0          0.0          0.0           0.0            0.0   \n",
       "1          0.0          0.0          0.0           0.0            0.0   \n",
       "2          0.0          0.0          0.0           0.0            0.0   \n",
       "3          0.0          0.0          0.0           0.0            0.0   \n",
       "4          0.0          0.0          0.0           1.0            0.0   \n",
       "\n",
       "   11~12_takeoff  18~20_ride  \n",
       "0            0.0         0.0  \n",
       "1            0.0         5.0  \n",
       "2            0.0         2.0  \n",
       "3            0.0        53.0  \n",
       "4            0.0         0.0  \n",
       "\n",
       "[5 rows x 21 columns]"
      ]
     },
     "execution_count": 63,
     "metadata": {},
     "output_type": "execute_result"
    }
   ],
   "source": [
    "# 상위 5개의 행을 살펴보자\n",
    "train.head()"
   ]
  },
  {
   "cell_type": "code",
   "execution_count": 64,
   "id": "46df2bd5",
   "metadata": {},
   "outputs": [
    {
     "name": "stdout",
     "output_type": "stream",
     "text": [
      "<class 'pandas.core.frame.DataFrame'>\n",
      "RangeIndex: 415423 entries, 0 to 415422\n",
      "Data columns (total 21 columns):\n",
      " #   Column         Non-Null Count   Dtype  \n",
      "---  ------         --------------   -----  \n",
      " 0   id             415423 non-null  int64  \n",
      " 1   date           415423 non-null  object \n",
      " 2   bus_route_id   415423 non-null  int64  \n",
      " 3   in_out         415423 non-null  object \n",
      " 4   station_code   415423 non-null  int64  \n",
      " 5   station_name   415423 non-null  object \n",
      " 6   latitude       415423 non-null  float64\n",
      " 7   longitude      415423 non-null  float64\n",
      " 8   6~7_ride       415423 non-null  float64\n",
      " 9   7~8_ride       415423 non-null  float64\n",
      " 10  8~9_ride       415423 non-null  float64\n",
      " 11  9~10_ride      415423 non-null  float64\n",
      " 12  10~11_ride     415423 non-null  float64\n",
      " 13  11~12_ride     415423 non-null  float64\n",
      " 14  6~7_takeoff    415423 non-null  float64\n",
      " 15  7~8_takeoff    415423 non-null  float64\n",
      " 16  8~9_takeoff    415423 non-null  float64\n",
      " 17  9~10_takeoff   415423 non-null  float64\n",
      " 18  10~11_takeoff  415423 non-null  float64\n",
      " 19  11~12_takeoff  415423 non-null  float64\n",
      " 20  18~20_ride     415423 non-null  float64\n",
      "dtypes: float64(15), int64(3), object(3)\n",
      "memory usage: 66.6+ MB\n"
     ]
    }
   ],
   "source": [
    "# 각 컬럼의 변수명과 데이터타입을 확인하자\n",
    "train.info(null_counts=True)"
   ]
  },
  {
   "cell_type": "markdown",
   "id": "f2f7c01f",
   "metadata": {},
   "source": [
    "# test.csv 살펴보기"
   ]
  },
  {
   "cell_type": "code",
   "execution_count": 65,
   "id": "012dc8b6",
   "metadata": {},
   "outputs": [
    {
     "data": {
      "text/html": [
       "<div>\n",
       "<style scoped>\n",
       "    .dataframe tbody tr th:only-of-type {\n",
       "        vertical-align: middle;\n",
       "    }\n",
       "\n",
       "    .dataframe tbody tr th {\n",
       "        vertical-align: top;\n",
       "    }\n",
       "\n",
       "    .dataframe thead th {\n",
       "        text-align: right;\n",
       "    }\n",
       "</style>\n",
       "<table border=\"1\" class=\"dataframe\">\n",
       "  <thead>\n",
       "    <tr style=\"text-align: right;\">\n",
       "      <th></th>\n",
       "      <th>id</th>\n",
       "      <th>date</th>\n",
       "      <th>bus_route_id</th>\n",
       "      <th>in_out</th>\n",
       "      <th>station_code</th>\n",
       "      <th>station_name</th>\n",
       "      <th>latitude</th>\n",
       "      <th>longitude</th>\n",
       "      <th>6~7_ride</th>\n",
       "      <th>7~8_ride</th>\n",
       "      <th>8~9_ride</th>\n",
       "      <th>9~10_ride</th>\n",
       "      <th>10~11_ride</th>\n",
       "      <th>11~12_ride</th>\n",
       "      <th>6~7_takeoff</th>\n",
       "      <th>7~8_takeoff</th>\n",
       "      <th>8~9_takeoff</th>\n",
       "      <th>9~10_takeoff</th>\n",
       "      <th>10~11_takeoff</th>\n",
       "      <th>11~12_takeoff</th>\n",
       "    </tr>\n",
       "  </thead>\n",
       "  <tbody>\n",
       "    <tr>\n",
       "      <th>0</th>\n",
       "      <td>415423</td>\n",
       "      <td>2019-10-01</td>\n",
       "      <td>4270000</td>\n",
       "      <td>시외</td>\n",
       "      <td>344</td>\n",
       "      <td>제주썬호텔</td>\n",
       "      <td>33.48990</td>\n",
       "      <td>126.49373</td>\n",
       "      <td>4.0</td>\n",
       "      <td>4.0</td>\n",
       "      <td>7.0</td>\n",
       "      <td>2.0</td>\n",
       "      <td>9.0</td>\n",
       "      <td>1.0</td>\n",
       "      <td>0.0</td>\n",
       "      <td>0.0</td>\n",
       "      <td>0.0</td>\n",
       "      <td>0.0</td>\n",
       "      <td>0.0</td>\n",
       "      <td>1.0</td>\n",
       "    </tr>\n",
       "    <tr>\n",
       "      <th>1</th>\n",
       "      <td>415424</td>\n",
       "      <td>2019-10-01</td>\n",
       "      <td>4270000</td>\n",
       "      <td>시외</td>\n",
       "      <td>357</td>\n",
       "      <td>한라병원</td>\n",
       "      <td>33.48944</td>\n",
       "      <td>126.48508</td>\n",
       "      <td>1.0</td>\n",
       "      <td>6.0</td>\n",
       "      <td>6.0</td>\n",
       "      <td>1.0</td>\n",
       "      <td>8.0</td>\n",
       "      <td>11.0</td>\n",
       "      <td>0.0</td>\n",
       "      <td>0.0</td>\n",
       "      <td>0.0</td>\n",
       "      <td>0.0</td>\n",
       "      <td>0.0</td>\n",
       "      <td>0.0</td>\n",
       "    </tr>\n",
       "    <tr>\n",
       "      <th>2</th>\n",
       "      <td>415425</td>\n",
       "      <td>2019-10-01</td>\n",
       "      <td>4270000</td>\n",
       "      <td>시외</td>\n",
       "      <td>432</td>\n",
       "      <td>정존마을</td>\n",
       "      <td>33.48181</td>\n",
       "      <td>126.47352</td>\n",
       "      <td>2.0</td>\n",
       "      <td>4.0</td>\n",
       "      <td>2.0</td>\n",
       "      <td>2.0</td>\n",
       "      <td>2.0</td>\n",
       "      <td>1.0</td>\n",
       "      <td>0.0</td>\n",
       "      <td>0.0</td>\n",
       "      <td>0.0</td>\n",
       "      <td>0.0</td>\n",
       "      <td>0.0</td>\n",
       "      <td>0.0</td>\n",
       "    </tr>\n",
       "    <tr>\n",
       "      <th>3</th>\n",
       "      <td>415426</td>\n",
       "      <td>2019-10-01</td>\n",
       "      <td>4270000</td>\n",
       "      <td>시내</td>\n",
       "      <td>1579</td>\n",
       "      <td>제주국제공항(600번)</td>\n",
       "      <td>33.50577</td>\n",
       "      <td>126.49252</td>\n",
       "      <td>1.0</td>\n",
       "      <td>11.0</td>\n",
       "      <td>18.0</td>\n",
       "      <td>8.0</td>\n",
       "      <td>26.0</td>\n",
       "      <td>20.0</td>\n",
       "      <td>0.0</td>\n",
       "      <td>0.0</td>\n",
       "      <td>0.0</td>\n",
       "      <td>0.0</td>\n",
       "      <td>0.0</td>\n",
       "      <td>0.0</td>\n",
       "    </tr>\n",
       "    <tr>\n",
       "      <th>4</th>\n",
       "      <td>415427</td>\n",
       "      <td>2019-10-01</td>\n",
       "      <td>4270000</td>\n",
       "      <td>시내</td>\n",
       "      <td>1636</td>\n",
       "      <td>롯데호텔</td>\n",
       "      <td>33.24872</td>\n",
       "      <td>126.41032</td>\n",
       "      <td>0.0</td>\n",
       "      <td>0.0</td>\n",
       "      <td>0.0</td>\n",
       "      <td>0.0</td>\n",
       "      <td>0.0</td>\n",
       "      <td>0.0</td>\n",
       "      <td>0.0</td>\n",
       "      <td>0.0</td>\n",
       "      <td>0.0</td>\n",
       "      <td>1.0</td>\n",
       "      <td>0.0</td>\n",
       "      <td>0.0</td>\n",
       "    </tr>\n",
       "  </tbody>\n",
       "</table>\n",
       "</div>"
      ],
      "text/plain": [
       "       id        date  bus_route_id in_out  station_code  station_name  \\\n",
       "0  415423  2019-10-01       4270000     시외           344         제주썬호텔   \n",
       "1  415424  2019-10-01       4270000     시외           357          한라병원   \n",
       "2  415425  2019-10-01       4270000     시외           432          정존마을   \n",
       "3  415426  2019-10-01       4270000     시내          1579  제주국제공항(600번)   \n",
       "4  415427  2019-10-01       4270000     시내          1636          롯데호텔   \n",
       "\n",
       "   latitude  longitude  6~7_ride  7~8_ride  8~9_ride  9~10_ride  10~11_ride  \\\n",
       "0  33.48990  126.49373       4.0       4.0       7.0        2.0         9.0   \n",
       "1  33.48944  126.48508       1.0       6.0       6.0        1.0         8.0   \n",
       "2  33.48181  126.47352       2.0       4.0       2.0        2.0         2.0   \n",
       "3  33.50577  126.49252       1.0      11.0      18.0        8.0        26.0   \n",
       "4  33.24872  126.41032       0.0       0.0       0.0        0.0         0.0   \n",
       "\n",
       "   11~12_ride  6~7_takeoff  7~8_takeoff  8~9_takeoff  9~10_takeoff  \\\n",
       "0         1.0          0.0          0.0          0.0           0.0   \n",
       "1        11.0          0.0          0.0          0.0           0.0   \n",
       "2         1.0          0.0          0.0          0.0           0.0   \n",
       "3        20.0          0.0          0.0          0.0           0.0   \n",
       "4         0.0          0.0          0.0          0.0           1.0   \n",
       "\n",
       "   10~11_takeoff  11~12_takeoff  \n",
       "0            0.0            1.0  \n",
       "1            0.0            0.0  \n",
       "2            0.0            0.0  \n",
       "3            0.0            0.0  \n",
       "4            0.0            0.0  "
      ]
     },
     "execution_count": 65,
     "metadata": {},
     "output_type": "execute_result"
    }
   ],
   "source": [
    "test.head()"
   ]
  },
  {
   "cell_type": "code",
   "execution_count": 66,
   "id": "d336d778",
   "metadata": {},
   "outputs": [
    {
     "name": "stdout",
     "output_type": "stream",
     "text": [
      "<class 'pandas.core.frame.DataFrame'>\n",
      "RangeIndex: 228170 entries, 0 to 228169\n",
      "Data columns (total 20 columns):\n",
      " #   Column         Non-Null Count   Dtype  \n",
      "---  ------         --------------   -----  \n",
      " 0   id             228170 non-null  int64  \n",
      " 1   date           228170 non-null  object \n",
      " 2   bus_route_id   228170 non-null  int64  \n",
      " 3   in_out         228170 non-null  object \n",
      " 4   station_code   228170 non-null  int64  \n",
      " 5   station_name   228170 non-null  object \n",
      " 6   latitude       228170 non-null  float64\n",
      " 7   longitude      228170 non-null  float64\n",
      " 8   6~7_ride       228170 non-null  float64\n",
      " 9   7~8_ride       228170 non-null  float64\n",
      " 10  8~9_ride       228170 non-null  float64\n",
      " 11  9~10_ride      228170 non-null  float64\n",
      " 12  10~11_ride     228170 non-null  float64\n",
      " 13  11~12_ride     228170 non-null  float64\n",
      " 14  6~7_takeoff    228170 non-null  float64\n",
      " 15  7~8_takeoff    228170 non-null  float64\n",
      " 16  8~9_takeoff    228170 non-null  float64\n",
      " 17  9~10_takeoff   228170 non-null  float64\n",
      " 18  10~11_takeoff  228170 non-null  float64\n",
      " 19  11~12_takeoff  228170 non-null  float64\n",
      "dtypes: float64(14), int64(3), object(3)\n",
      "memory usage: 34.8+ MB\n"
     ]
    }
   ],
   "source": [
    "test.info(null_counts=True)"
   ]
  },
  {
   "cell_type": "markdown",
   "id": "157a312c",
   "metadata": {},
   "source": [
    "> train 에는 출근시간은 승차, 하차 모두 있지만, 퇴근시간은 승차 인원만 있다, (결측치 없음!)\n",
    "\n",
    "> test 에는 출근시간의 승차, 하차 만 있다. (마찬가지로 결측치 없음)"
   ]
  },
  {
   "cell_type": "markdown",
   "id": "d44efa71",
   "metadata": {},
   "source": [
    "# bus_bts.csv 살펴보기"
   ]
  },
  {
   "cell_type": "code",
   "execution_count": 67,
   "id": "5f9eda46",
   "metadata": {},
   "outputs": [
    {
     "data": {
      "text/html": [
       "<div>\n",
       "<style scoped>\n",
       "    .dataframe tbody tr th:only-of-type {\n",
       "        vertical-align: middle;\n",
       "    }\n",
       "\n",
       "    .dataframe tbody tr th {\n",
       "        vertical-align: top;\n",
       "    }\n",
       "\n",
       "    .dataframe thead th {\n",
       "        text-align: right;\n",
       "    }\n",
       "</style>\n",
       "<table border=\"1\" class=\"dataframe\">\n",
       "  <thead>\n",
       "    <tr style=\"text-align: right;\">\n",
       "      <th></th>\n",
       "      <th>user_card_id</th>\n",
       "      <th>bus_route_id</th>\n",
       "      <th>vhc_id</th>\n",
       "      <th>geton_date</th>\n",
       "      <th>geton_time</th>\n",
       "      <th>geton_station_code</th>\n",
       "      <th>geton_station_name</th>\n",
       "      <th>getoff_date</th>\n",
       "      <th>getoff_time</th>\n",
       "      <th>getoff_station_code</th>\n",
       "      <th>getoff_station_name</th>\n",
       "      <th>user_category</th>\n",
       "      <th>user_count</th>\n",
       "    </tr>\n",
       "  </thead>\n",
       "  <tbody>\n",
       "    <tr>\n",
       "      <th>0</th>\n",
       "      <td>1.010010e+15</td>\n",
       "      <td>23000000</td>\n",
       "      <td>149793674</td>\n",
       "      <td>2019-09-10</td>\n",
       "      <td>06:34:45</td>\n",
       "      <td>360</td>\n",
       "      <td>노형오거리</td>\n",
       "      <td>2019-09-10</td>\n",
       "      <td>07:10:31</td>\n",
       "      <td>592.0</td>\n",
       "      <td>화북초등학교</td>\n",
       "      <td>1</td>\n",
       "      <td>1</td>\n",
       "    </tr>\n",
       "    <tr>\n",
       "      <th>1</th>\n",
       "      <td>1.010010e+15</td>\n",
       "      <td>23000000</td>\n",
       "      <td>149793674</td>\n",
       "      <td>2019-09-10</td>\n",
       "      <td>06:34:58</td>\n",
       "      <td>360</td>\n",
       "      <td>노형오거리</td>\n",
       "      <td>2019-09-10</td>\n",
       "      <td>06:56:27</td>\n",
       "      <td>3273.0</td>\n",
       "      <td>고산동산(광양방면)</td>\n",
       "      <td>1</td>\n",
       "      <td>1</td>\n",
       "    </tr>\n",
       "    <tr>\n",
       "      <th>2</th>\n",
       "      <td>1.019160e+15</td>\n",
       "      <td>21420000</td>\n",
       "      <td>149793535</td>\n",
       "      <td>2019-09-10</td>\n",
       "      <td>07:19:07</td>\n",
       "      <td>2495</td>\n",
       "      <td>동광환승정류장4(제주방면)</td>\n",
       "      <td>2019-09-10</td>\n",
       "      <td>07:40:29</td>\n",
       "      <td>431.0</td>\n",
       "      <td>정존마을</td>\n",
       "      <td>4</td>\n",
       "      <td>1</td>\n",
       "    </tr>\n",
       "    <tr>\n",
       "      <th>3</th>\n",
       "      <td>1.019150e+15</td>\n",
       "      <td>21420000</td>\n",
       "      <td>149793512</td>\n",
       "      <td>2019-09-09</td>\n",
       "      <td>09:14:47</td>\n",
       "      <td>3282</td>\n",
       "      <td>대정환승정류장(대정읍사무소)</td>\n",
       "      <td>2019-09-09</td>\n",
       "      <td>10:02:46</td>\n",
       "      <td>431.0</td>\n",
       "      <td>정존마을</td>\n",
       "      <td>1</td>\n",
       "      <td>1</td>\n",
       "    </tr>\n",
       "    <tr>\n",
       "      <th>4</th>\n",
       "      <td>1.010010e+15</td>\n",
       "      <td>21420000</td>\n",
       "      <td>149793512</td>\n",
       "      <td>2019-09-09</td>\n",
       "      <td>09:28:53</td>\n",
       "      <td>2820</td>\n",
       "      <td>삼정지에듀</td>\n",
       "      <td>2019-09-09</td>\n",
       "      <td>10:21:37</td>\n",
       "      <td>2972.0</td>\n",
       "      <td>제주국제공항(종점)</td>\n",
       "      <td>4</td>\n",
       "      <td>1</td>\n",
       "    </tr>\n",
       "  </tbody>\n",
       "</table>\n",
       "</div>"
      ],
      "text/plain": [
       "   user_card_id  bus_route_id     vhc_id  geton_date geton_time  \\\n",
       "0  1.010010e+15      23000000  149793674  2019-09-10   06:34:45   \n",
       "1  1.010010e+15      23000000  149793674  2019-09-10   06:34:58   \n",
       "2  1.019160e+15      21420000  149793535  2019-09-10   07:19:07   \n",
       "3  1.019150e+15      21420000  149793512  2019-09-09   09:14:47   \n",
       "4  1.010010e+15      21420000  149793512  2019-09-09   09:28:53   \n",
       "\n",
       "   geton_station_code geton_station_name getoff_date getoff_time  \\\n",
       "0                 360              노형오거리  2019-09-10    07:10:31   \n",
       "1                 360              노형오거리  2019-09-10    06:56:27   \n",
       "2                2495     동광환승정류장4(제주방면)  2019-09-10    07:40:29   \n",
       "3                3282    대정환승정류장(대정읍사무소)  2019-09-09    10:02:46   \n",
       "4                2820              삼정지에듀  2019-09-09    10:21:37   \n",
       "\n",
       "   getoff_station_code getoff_station_name  user_category  user_count  \n",
       "0                592.0              화북초등학교              1           1  \n",
       "1               3273.0          고산동산(광양방면)              1           1  \n",
       "2                431.0                정존마을              4           1  \n",
       "3                431.0                정존마을              1           1  \n",
       "4               2972.0          제주국제공항(종점)              4           1  "
      ]
     },
     "execution_count": 67,
     "metadata": {},
     "output_type": "execute_result"
    }
   ],
   "source": [
    "bts.head()"
   ]
  },
  {
   "cell_type": "code",
   "execution_count": 68,
   "id": "edebf2d2",
   "metadata": {},
   "outputs": [
    {
     "name": "stdout",
     "output_type": "stream",
     "text": [
      "<class 'pandas.core.frame.DataFrame'>\n",
      "RangeIndex: 2409414 entries, 0 to 2409413\n",
      "Data columns (total 13 columns):\n",
      " #   Column               Non-Null Count    Dtype  \n",
      "---  ------               --------------    -----  \n",
      " 0   user_card_id         2409414 non-null  float64\n",
      " 1   bus_route_id         2409414 non-null  int64  \n",
      " 2   vhc_id               2409414 non-null  int64  \n",
      " 3   geton_date           2409414 non-null  object \n",
      " 4   geton_time           2409414 non-null  object \n",
      " 5   geton_station_code   2409414 non-null  int64  \n",
      " 6   geton_station_name   2409365 non-null  object \n",
      " 7   getoff_date          1513678 non-null  object \n",
      " 8   getoff_time          1513678 non-null  object \n",
      " 9   getoff_station_code  1513678 non-null  float64\n",
      " 10  getoff_station_name  1513639 non-null  object \n",
      " 11  user_category        2409414 non-null  int64  \n",
      " 12  user_count           2409414 non-null  int64  \n",
      "dtypes: float64(2), int64(5), object(6)\n",
      "memory usage: 239.0+ MB\n"
     ]
    }
   ],
   "source": [
    "bts.info(null_counts=True)"
   ]
  },
  {
   "cell_type": "markdown",
   "id": "5bf8fcaa",
   "metadata": {},
   "source": [
    "> 결측치 존재, 하차할 때 카드를 찍지 않으면 getoff_* 열이 NULL"
   ]
  },
  {
   "cell_type": "code",
   "execution_count": 69,
   "id": "42f8e6a6",
   "metadata": {},
   "outputs": [
    {
     "name": "stdout",
     "output_type": "stream",
     "text": [
      "결과: 카드정보에 test 승차 데이터 포함\n"
     ]
    }
   ],
   "source": [
    "# card 데이터의 시간 범위가 오전만 있으니,\n",
    "#train 의 승차정보만 있는지, test 의 정보도 포함인지 알아보자\n",
    "card_cnt = bts['user_count'].sum()\n",
    "\n",
    "train_cnt = 0\n",
    "train_cnt += train['6~7_ride'].sum()\n",
    "train_cnt += train['7~8_ride'].sum()\n",
    "train_cnt += train['8~9_ride'].sum()\n",
    "train_cnt += train['9~10_ride'].sum()\n",
    "train_cnt += train['10~11_ride'].sum()\n",
    "train_cnt += train['11~12_ride'].sum()\n",
    "\n",
    "test_cnt = 0\n",
    "test_cnt += test['6~7_ride'].sum()\n",
    "test_cnt += test['7~8_ride'].sum()\n",
    "test_cnt += test['8~9_ride'].sum()\n",
    "test_cnt += test['9~10_ride'].sum()\n",
    "test_cnt += test['10~11_ride'].sum()\n",
    "test_cnt += test['11~12_ride'].sum()\n",
    "\n",
    "if train_cnt + test_cnt == card_cnt:\n",
    "    print('결과: 카드정보에 test 승차 데이터 포함')\n",
    "elif train_cnt == card_cnt:\n",
    "    print('결과: 카드정보에 train 데이터만 있음')"
   ]
  },
  {
   "cell_type": "markdown",
   "id": "064f393d",
   "metadata": {},
   "source": [
    "> test 데이터의 승차 정보를 bts 데이터를 통해 알 수 있겠다 ! bus_route_id 컬럼이 동일하니 추후 이를 기준으로 병합해 쓰자"
   ]
  },
  {
   "cell_type": "markdown",
   "id": "c43f7eae",
   "metadata": {},
   "source": [
    "# jeju_financial_life_data.csv 살펴보기\n",
    "> latitude, longitude 변수를 기준으로 제주도 지역민의 금융 생활 통계 데이터를 불러오자\n",
    "> 데이콘 [KCB 금융스타일 시각화 경진대회](https://dacon.io/competitions/official/82407/data/) 에서 받을 수 있다."
   ]
  },
  {
   "cell_type": "code",
   "execution_count": 70,
   "id": "5254810a",
   "metadata": {},
   "outputs": [
    {
     "data": {
      "text/html": [
       "<div>\n",
       "<style scoped>\n",
       "    .dataframe tbody tr th:only-of-type {\n",
       "        vertical-align: middle;\n",
       "    }\n",
       "\n",
       "    .dataframe tbody tr th {\n",
       "        vertical-align: top;\n",
       "    }\n",
       "\n",
       "    .dataframe thead th {\n",
       "        text-align: right;\n",
       "    }\n",
       "</style>\n",
       "<table border=\"1\" class=\"dataframe\">\n",
       "  <thead>\n",
       "    <tr style=\"text-align: right;\">\n",
       "      <th></th>\n",
       "      <th>zip_cd</th>\n",
       "      <th>year_month</th>\n",
       "      <th>x_axis</th>\n",
       "      <th>y_axis</th>\n",
       "      <th>sex</th>\n",
       "      <th>age</th>\n",
       "      <th>job_majorc</th>\n",
       "      <th>job_smallc</th>\n",
       "      <th>job_public</th>\n",
       "      <th>job_profession</th>\n",
       "      <th>...</th>\n",
       "      <th>avg_debt</th>\n",
       "      <th>avg_debt_credit</th>\n",
       "      <th>avg_debt_noneb</th>\n",
       "      <th>avg_debt_mortgage</th>\n",
       "      <th>avg_debt_deposit</th>\n",
       "      <th>avg_debt_collateral</th>\n",
       "      <th>avg_credit_rat</th>\n",
       "      <th>medium_resid_rat</th>\n",
       "      <th>large_resid_rat</th>\n",
       "      <th>vehicle_own_rat</th>\n",
       "    </tr>\n",
       "  </thead>\n",
       "  <tbody>\n",
       "    <tr>\n",
       "      <th>0</th>\n",
       "      <td>63299</td>\n",
       "      <td>201902</td>\n",
       "      <td>126.565889</td>\n",
       "      <td>33.513210</td>\n",
       "      <td>1</td>\n",
       "      <td>54</td>\n",
       "      <td>0.0</td>\n",
       "      <td>0.166667</td>\n",
       "      <td>0.000000</td>\n",
       "      <td>0.000000</td>\n",
       "      <td>...</td>\n",
       "      <td>24285196</td>\n",
       "      <td>11419148</td>\n",
       "      <td>8863595</td>\n",
       "      <td>55550000</td>\n",
       "      <td>0</td>\n",
       "      <td>55550000</td>\n",
       "      <td>5</td>\n",
       "      <td>-999999.0</td>\n",
       "      <td>-999999.0</td>\n",
       "      <td>0.000000</td>\n",
       "    </tr>\n",
       "    <tr>\n",
       "      <th>1</th>\n",
       "      <td>63560</td>\n",
       "      <td>201902</td>\n",
       "      <td>126.497121</td>\n",
       "      <td>33.247225</td>\n",
       "      <td>1</td>\n",
       "      <td>59</td>\n",
       "      <td>0.0</td>\n",
       "      <td>0.125000</td>\n",
       "      <td>0.000000</td>\n",
       "      <td>0.000000</td>\n",
       "      <td>...</td>\n",
       "      <td>108571077</td>\n",
       "      <td>25896955</td>\n",
       "      <td>13317443</td>\n",
       "      <td>0</td>\n",
       "      <td>200000000</td>\n",
       "      <td>74421721</td>\n",
       "      <td>4</td>\n",
       "      <td>-999999.0</td>\n",
       "      <td>-999999.0</td>\n",
       "      <td>0.000000</td>\n",
       "    </tr>\n",
       "    <tr>\n",
       "      <th>2</th>\n",
       "      <td>63560</td>\n",
       "      <td>201902</td>\n",
       "      <td>126.497121</td>\n",
       "      <td>33.247225</td>\n",
       "      <td>2</td>\n",
       "      <td>49</td>\n",
       "      <td>0.0</td>\n",
       "      <td>0.250000</td>\n",
       "      <td>0.000000</td>\n",
       "      <td>0.000000</td>\n",
       "      <td>...</td>\n",
       "      <td>26424335</td>\n",
       "      <td>12015311</td>\n",
       "      <td>12015311</td>\n",
       "      <td>40833359</td>\n",
       "      <td>0</td>\n",
       "      <td>40833359</td>\n",
       "      <td>2</td>\n",
       "      <td>-999999.0</td>\n",
       "      <td>-999999.0</td>\n",
       "      <td>0.000000</td>\n",
       "    </tr>\n",
       "    <tr>\n",
       "      <th>3</th>\n",
       "      <td>63560</td>\n",
       "      <td>201902</td>\n",
       "      <td>126.497121</td>\n",
       "      <td>33.247225</td>\n",
       "      <td>1</td>\n",
       "      <td>54</td>\n",
       "      <td>0.0</td>\n",
       "      <td>0.181818</td>\n",
       "      <td>0.090909</td>\n",
       "      <td>0.090909</td>\n",
       "      <td>...</td>\n",
       "      <td>647716901</td>\n",
       "      <td>39952556</td>\n",
       "      <td>21558153</td>\n",
       "      <td>36697792</td>\n",
       "      <td>0</td>\n",
       "      <td>706300496</td>\n",
       "      <td>4</td>\n",
       "      <td>-999999.0</td>\n",
       "      <td>-999999.0</td>\n",
       "      <td>0.166667</td>\n",
       "    </tr>\n",
       "    <tr>\n",
       "      <th>4</th>\n",
       "      <td>63560</td>\n",
       "      <td>201902</td>\n",
       "      <td>126.497121</td>\n",
       "      <td>33.247225</td>\n",
       "      <td>1</td>\n",
       "      <td>49</td>\n",
       "      <td>0.0</td>\n",
       "      <td>0.250000</td>\n",
       "      <td>0.000000</td>\n",
       "      <td>0.000000</td>\n",
       "      <td>...</td>\n",
       "      <td>248232725</td>\n",
       "      <td>35712501</td>\n",
       "      <td>5568751</td>\n",
       "      <td>0</td>\n",
       "      <td>0</td>\n",
       "      <td>626810674</td>\n",
       "      <td>5</td>\n",
       "      <td>-999999.0</td>\n",
       "      <td>-999999.0</td>\n",
       "      <td>0.000000</td>\n",
       "    </tr>\n",
       "  </tbody>\n",
       "</table>\n",
       "<p>5 rows × 27 columns</p>\n",
       "</div>"
      ],
      "text/plain": [
       "   zip_cd  year_month      x_axis     y_axis  sex  age  job_majorc  \\\n",
       "0   63299      201902  126.565889  33.513210    1   54         0.0   \n",
       "1   63560      201902  126.497121  33.247225    1   59         0.0   \n",
       "2   63560      201902  126.497121  33.247225    2   49         0.0   \n",
       "3   63560      201902  126.497121  33.247225    1   54         0.0   \n",
       "4   63560      201902  126.497121  33.247225    1   49         0.0   \n",
       "\n",
       "   job_smallc  job_public  job_profession  ...   avg_debt  avg_debt_credit  \\\n",
       "0    0.166667    0.000000        0.000000  ...   24285196         11419148   \n",
       "1    0.125000    0.000000        0.000000  ...  108571077         25896955   \n",
       "2    0.250000    0.000000        0.000000  ...   26424335         12015311   \n",
       "3    0.181818    0.090909        0.090909  ...  647716901         39952556   \n",
       "4    0.250000    0.000000        0.000000  ...  248232725         35712501   \n",
       "\n",
       "   avg_debt_noneb  avg_debt_mortgage  avg_debt_deposit  avg_debt_collateral  \\\n",
       "0         8863595           55550000                 0             55550000   \n",
       "1        13317443                  0         200000000             74421721   \n",
       "2        12015311           40833359                 0             40833359   \n",
       "3        21558153           36697792                 0            706300496   \n",
       "4         5568751                  0                 0            626810674   \n",
       "\n",
       "   avg_credit_rat  medium_resid_rat  large_resid_rat  vehicle_own_rat  \n",
       "0               5         -999999.0        -999999.0         0.000000  \n",
       "1               4         -999999.0        -999999.0         0.000000  \n",
       "2               2         -999999.0        -999999.0         0.000000  \n",
       "3               4         -999999.0        -999999.0         0.166667  \n",
       "4               5         -999999.0        -999999.0         0.000000  \n",
       "\n",
       "[5 rows x 27 columns]"
      ]
     },
     "execution_count": 70,
     "metadata": {},
     "output_type": "execute_result"
    }
   ],
   "source": [
    "jeju_life.head()"
   ]
  },
  {
   "cell_type": "code",
   "execution_count": 71,
   "id": "08446acd",
   "metadata": {},
   "outputs": [
    {
     "name": "stdout",
     "output_type": "stream",
     "text": [
      "<class 'pandas.core.frame.DataFrame'>\n",
      "RangeIndex: 10422 entries, 0 to 10421\n",
      "Data columns (total 27 columns):\n",
      " #   Column               Non-Null Count  Dtype  \n",
      "---  ------               --------------  -----  \n",
      " 0   zip_cd               10422 non-null  int64  \n",
      " 1   year_month           10422 non-null  int64  \n",
      " 2   x_axis               10422 non-null  float64\n",
      " 3   y_axis               10422 non-null  float64\n",
      " 4   sex                  10422 non-null  int64  \n",
      " 5   age                  10422 non-null  int64  \n",
      " 6   job_majorc           10422 non-null  float64\n",
      " 7   job_smallc           10422 non-null  float64\n",
      " 8   job_public           10422 non-null  float64\n",
      " 9   job_profession       10422 non-null  float64\n",
      " 10  job_self             10422 non-null  float64\n",
      " 11  job_none             10422 non-null  float64\n",
      " 12  job_other            10422 non-null  float64\n",
      " 13  avg_income           10422 non-null  int64  \n",
      " 14  med_income           10422 non-null  int64  \n",
      " 15  avg_spend            10422 non-null  int64  \n",
      " 16  avg_foreign_spend    10422 non-null  int64  \n",
      " 17  avg_debt             10422 non-null  int64  \n",
      " 18  avg_debt_credit      10422 non-null  int64  \n",
      " 19  avg_debt_noneb       10422 non-null  int64  \n",
      " 20  avg_debt_mortgage    10422 non-null  int64  \n",
      " 21  avg_debt_deposit     10422 non-null  int64  \n",
      " 22  avg_debt_collateral  10422 non-null  int64  \n",
      " 23  avg_credit_rat       10422 non-null  int64  \n",
      " 24  medium_resid_rat     10422 non-null  float64\n",
      " 25  large_resid_rat      10422 non-null  float64\n",
      " 26  vehicle_own_rat      10422 non-null  float64\n",
      "dtypes: float64(12), int64(15)\n",
      "memory usage: 2.1 MB\n"
     ]
    }
   ],
   "source": [
    "jeju_life.info(null_counts = True)"
   ]
  },
  {
   "cell_type": "markdown",
   "id": "2a5a22ec",
   "metadata": {},
   "source": [
    "> 변수를 살펴보고 관련있는 변수만 나중에 전처리해서 가져오자"
   ]
  },
  {
   "cell_type": "markdown",
   "id": "6f039053",
   "metadata": {},
   "source": [
    "# weather.csv 살펴보기\n",
    "> 9월의 오전 10시의 기상정보"
   ]
  },
  {
   "cell_type": "code",
   "execution_count": 72,
   "id": "af712053",
   "metadata": {},
   "outputs": [
    {
     "data": {
      "text/html": [
       "<div>\n",
       "<style scoped>\n",
       "    .dataframe tbody tr th:only-of-type {\n",
       "        vertical-align: middle;\n",
       "    }\n",
       "\n",
       "    .dataframe tbody tr th {\n",
       "        vertical-align: top;\n",
       "    }\n",
       "\n",
       "    .dataframe thead th {\n",
       "        text-align: right;\n",
       "    }\n",
       "</style>\n",
       "<table border=\"1\" class=\"dataframe\">\n",
       "  <thead>\n",
       "    <tr style=\"text-align: right;\">\n",
       "      <th></th>\n",
       "      <th>날짜</th>\n",
       "      <th>현재일기</th>\n",
       "      <th>현재기온</th>\n",
       "      <th>체감온도</th>\n",
       "      <th>일강수</th>\n",
       "    </tr>\n",
       "  </thead>\n",
       "  <tbody>\n",
       "    <tr>\n",
       "      <th>0</th>\n",
       "      <td>2019-09-01</td>\n",
       "      <td>흐림</td>\n",
       "      <td>26.2</td>\n",
       "      <td>75.0</td>\n",
       "      <td>0</td>\n",
       "    </tr>\n",
       "    <tr>\n",
       "      <th>1</th>\n",
       "      <td>2019-09-02</td>\n",
       "      <td>비 끝남</td>\n",
       "      <td>22.5</td>\n",
       "      <td>72.0</td>\n",
       "      <td>25.7</td>\n",
       "    </tr>\n",
       "    <tr>\n",
       "      <th>2</th>\n",
       "      <td>2019-09-03</td>\n",
       "      <td>흐림</td>\n",
       "      <td>25.4</td>\n",
       "      <td>77.0</td>\n",
       "      <td>12.1</td>\n",
       "    </tr>\n",
       "    <tr>\n",
       "      <th>3</th>\n",
       "      <td>2019-09-04</td>\n",
       "      <td>약한비단속</td>\n",
       "      <td>24.2</td>\n",
       "      <td>75.0</td>\n",
       "      <td>34.3</td>\n",
       "    </tr>\n",
       "    <tr>\n",
       "      <th>4</th>\n",
       "      <td>2019-09-05</td>\n",
       "      <td>구름많음</td>\n",
       "      <td>27.6</td>\n",
       "      <td>79.0</td>\n",
       "      <td>0.1</td>\n",
       "    </tr>\n",
       "  </tbody>\n",
       "</table>\n",
       "</div>"
      ],
      "text/plain": [
       "           날짜   현재일기  현재기온  체감온도   일강수\n",
       "0  2019-09-01     흐림  26.2  75.0     0\n",
       "1  2019-09-02   비 끝남  22.5  72.0  25.7\n",
       "2  2019-09-03     흐림  25.4  77.0  12.1\n",
       "3  2019-09-04  약한비단속  24.2  75.0  34.3\n",
       "4  2019-09-05   구름많음  27.6  79.0   0.1"
      ]
     },
     "execution_count": 72,
     "metadata": {},
     "output_type": "execute_result"
    }
   ],
   "source": [
    "weather.head()"
   ]
  },
  {
   "cell_type": "code",
   "execution_count": 73,
   "id": "fe743b33",
   "metadata": {},
   "outputs": [
    {
     "name": "stdout",
     "output_type": "stream",
     "text": [
      "<class 'pandas.core.frame.DataFrame'>\n",
      "RangeIndex: 46 entries, 0 to 45\n",
      "Data columns (total 5 columns):\n",
      " #   Column  Non-Null Count  Dtype  \n",
      "---  ------  --------------  -----  \n",
      " 0   날짜      46 non-null     object \n",
      " 1   현재일기    46 non-null     object \n",
      " 2   현재기온    46 non-null     float64\n",
      " 3   체감온도    46 non-null     float64\n",
      " 4   일강수     46 non-null     object \n",
      "dtypes: float64(2), object(3)\n",
      "memory usage: 1.9+ KB\n"
     ]
    }
   ],
   "source": [
    "weather.info(null_counts=True)"
   ]
  },
  {
   "cell_type": "markdown",
   "id": "c5d01a41",
   "metadata": {},
   "source": [
    "> 날짜 변수 기준으로 추후 train, test 에 병합하자"
   ]
  },
  {
   "cell_type": "markdown",
   "id": "01eeba9d",
   "metadata": {},
   "source": [
    "# rain.csv 살펴보기"
   ]
  },
  {
   "cell_type": "code",
   "execution_count": 74,
   "id": "c384e6dd",
   "metadata": {},
   "outputs": [
    {
     "data": {
      "text/html": [
       "<div>\n",
       "<style scoped>\n",
       "    .dataframe tbody tr th:only-of-type {\n",
       "        vertical-align: middle;\n",
       "    }\n",
       "\n",
       "    .dataframe tbody tr th {\n",
       "        vertical-align: top;\n",
       "    }\n",
       "\n",
       "    .dataframe thead th {\n",
       "        text-align: right;\n",
       "    }\n",
       "</style>\n",
       "<table border=\"1\" class=\"dataframe\">\n",
       "  <thead>\n",
       "    <tr style=\"text-align: right;\">\n",
       "      <th></th>\n",
       "      <th>지점</th>\n",
       "      <th>일시</th>\n",
       "      <th>기온(°C)</th>\n",
       "      <th>강수량(mm)</th>\n",
       "    </tr>\n",
       "  </thead>\n",
       "  <tbody>\n",
       "    <tr>\n",
       "      <th>0</th>\n",
       "      <td>gosan</td>\n",
       "      <td>2019-09-01</td>\n",
       "      <td>23.916667</td>\n",
       "      <td>0.00</td>\n",
       "    </tr>\n",
       "    <tr>\n",
       "      <th>1</th>\n",
       "      <td>gosan</td>\n",
       "      <td>2019-09-02</td>\n",
       "      <td>23.700000</td>\n",
       "      <td>12.10</td>\n",
       "    </tr>\n",
       "    <tr>\n",
       "      <th>2</th>\n",
       "      <td>gosan</td>\n",
       "      <td>2019-09-03</td>\n",
       "      <td>23.550000</td>\n",
       "      <td>1.90</td>\n",
       "    </tr>\n",
       "    <tr>\n",
       "      <th>3</th>\n",
       "      <td>gosan</td>\n",
       "      <td>2019-09-04</td>\n",
       "      <td>23.533333</td>\n",
       "      <td>12.84</td>\n",
       "    </tr>\n",
       "    <tr>\n",
       "      <th>4</th>\n",
       "      <td>gosan</td>\n",
       "      <td>2019-09-05</td>\n",
       "      <td>26.033333</td>\n",
       "      <td>0.00</td>\n",
       "    </tr>\n",
       "  </tbody>\n",
       "</table>\n",
       "</div>"
      ],
      "text/plain": [
       "      지점          일시     기온(°C)  강수량(mm)\n",
       "0  gosan  2019-09-01  23.916667     0.00\n",
       "1  gosan  2019-09-02  23.700000    12.10\n",
       "2  gosan  2019-09-03  23.550000     1.90\n",
       "3  gosan  2019-09-04  23.533333    12.84\n",
       "4  gosan  2019-09-05  26.033333     0.00"
      ]
     },
     "execution_count": 74,
     "metadata": {},
     "output_type": "execute_result"
    }
   ],
   "source": [
    "rain.head()"
   ]
  },
  {
   "cell_type": "code",
   "execution_count": 75,
   "id": "044098c5",
   "metadata": {},
   "outputs": [
    {
     "name": "stdout",
     "output_type": "stream",
     "text": [
      "<class 'pandas.core.frame.DataFrame'>\n",
      "RangeIndex: 184 entries, 0 to 183\n",
      "Data columns (total 4 columns):\n",
      " #   Column   Non-Null Count  Dtype  \n",
      "---  ------   --------------  -----  \n",
      " 0   지점       184 non-null    object \n",
      " 1   일시       184 non-null    object \n",
      " 2   기온(°C)   184 non-null    float64\n",
      " 3   강수량(mm)  66 non-null     float64\n",
      "dtypes: float64(2), object(2)\n",
      "memory usage: 5.9+ KB\n"
     ]
    }
   ],
   "source": [
    "rain.info(null_counts = True)"
   ]
  },
  {
   "cell_type": "markdown",
   "id": "c97d9124",
   "metadata": {},
   "source": [
    "> 지점 변수에 대하여 test data 의 지점별 기상정보에 추가하자 !"
   ]
  },
  {
   "cell_type": "markdown",
   "id": "bd5f9e36",
   "metadata": {},
   "source": [
    "# EDA - Visualize"
   ]
  },
  {
   "cell_type": "code",
   "execution_count": 76,
   "id": "6d4f2137",
   "metadata": {},
   "outputs": [
    {
     "name": "stdout",
     "output_type": "stream",
     "text": [
      "This is a Mac\n"
     ]
    }
   ],
   "source": [
    "# 시각화에 필요한 라이브러리를 import\n",
    "import matplotlib\n",
    "import matplotlib.pyplot as plt\n",
    "import seaborn as sns\n",
    "\n",
    "# 쥬피터노트에서 결과를 출력하도록 설정\n",
    "%matplotlib inline\n",
    "\n",
    "# 시각화 한글 폰트 설정\n",
    "import platform\n",
    "# 윈도우 사용자\n",
    "if platform.system() == 'Windows':\n",
    "    print('This is a Windows')\n",
    "    plt.rc('font', family='Malgun Gothic')\n",
    "\n",
    "# Mac 사용자\n",
    "elif platform.system() == 'Darwin':\n",
    "    print('This is a Mac')\n",
    "    plt.rc('font', family='AppleGothic')\n",
    "\n",
    "# 마이너스 기호 출력\n",
    "plt.rc('axes', unicode_minus=False)\n",
    "\n",
    "# 분석에 문제가 없는 경고 메세지는 숨긴다.\n",
    "import warnings\n",
    "warnings.filterwarnings('ignore') "
   ]
  },
  {
   "cell_type": "markdown",
   "id": "a8e5609c",
   "metadata": {},
   "source": [
    "# 우선 train 의 퇴근인원 (종속변수) 을 살펴보자\n",
    "> 가장 중요한 변수인 만큼 분포는 어떠한지, 치우침은 없는지 살펴보자, 초기에 중요한 변수를 발견한다면, 이와 관련된 여러 파생변수를 만드는 것이 추후 성능향상에 좋다"
   ]
  },
  {
   "cell_type": "code",
   "execution_count": 77,
   "id": "71af5add",
   "metadata": {},
   "outputs": [],
   "source": [
    "# 학습 데이터 복사본 생성\n",
    "traindata = train.copy()"
   ]
  },
  {
   "cell_type": "code",
   "execution_count": 78,
   "id": "d3999fca",
   "metadata": {},
   "outputs": [
    {
     "data": {
      "image/png": "[encoded data removed]",
      "text/plain": [
       "<Figure size 432x288 with 1 Axes>"
      ]
     },
     "metadata": {
      "needs_background": "light"
     },
     "output_type": "display_data"
    }
   ],
   "source": [
    "# 타깃 변수(퇴근 시간 승차 인원) 분포 시각화\n",
    "sns.distplot(traindata['18~20_ride'], kde = False, bins = 50)\n",
    "plt.axis([0, 50, 0, 450000]) # [x 축 최솟값, x 축 최댓값, y 축 최솟값, y 축 최댓값]\n",
    "plt.title(\"퇴근 시간 승차 인원 히스토그램\") # 그래프 제목 지정\n",
    "plt.show() # 그래프 그리기"
   ]
  },
  {
   "cell_type": "code",
   "execution_count": 79,
   "id": "767d8b6a",
   "metadata": {},
   "outputs": [
    {
     "data": {
      "text/plain": [
       "18~20_ride\n",
       "0.0    296528\n",
       "1.0     44268\n",
       "2.0     23752\n",
       "3.0     13560\n",
       "4.0      8630\n",
       "5.0      5911\n",
       "dtype: int64"
      ]
     },
     "execution_count": 79,
     "metadata": {},
     "output_type": "execute_result"
    }
   ],
   "source": [
    "# 타깃 변수(퇴근 시간 승차 인원) 분포 확인\n",
    "traindata.groupby('18~20_ride').size().head(6)"
   ]
  },
  {
   "cell_type": "markdown",
   "id": "265c50b1",
   "metadata": {},
   "source": [
    "# 탐색적 분석에서 가능한 단일 변수에 따른 종속변수값을 보자"
   ]
  },
  {
   "cell_type": "markdown",
   "id": "a11cb2df",
   "metadata": {},
   "source": [
    "# 요일별 종속변수"
   ]
  },
  {
   "cell_type": "code",
   "execution_count": 86,
   "id": "33cf9d15",
   "metadata": {},
   "outputs": [],
   "source": [
    "# 요일 변수 생성\n",
    "\n",
    "# pd.to_datetime() 함수로 str 을 날짜형으로 변환\n",
    "traindata['date'] = pd.to_datetime(traindata['date'])\n",
    "\n",
    "# datetime 객체에서 요일을 문자형으로 추출해 변수 생성\n",
    "traindata['weekday'] = traindata['date'].dt.strftime('%a')"
   ]
  },
  {
   "cell_type": "code",
   "execution_count": 87,
   "id": "1f2fb911",
   "metadata": {},
   "outputs": [
    {
     "data": {
      "image/png": "[encoded data removed]",
      "text/plain": [
       "<Figure size 432x288 with 1 Axes>"
      ]
     },
     "metadata": {
      "needs_background": "light"
     },
     "output_type": "display_data"
    }
   ],
   "source": [
    "# 요일별 퇴근 시간 평균 탑승객 수 시각화\n",
    "sns.barplot(x=\"weekday\", y=\"18~20_ride\", data=traindata)\n",
    "plt.title(\"요일별 퇴근 시간 평균 탑승객 수\")\n",
    "plt.show()"
   ]
  },
  {
   "cell_type": "markdown",
   "id": "2254bcfe",
   "metadata": {},
   "source": [
    "# 시외/시내 별 종속변수"
   ]
  },
  {
   "cell_type": "code",
   "execution_count": 88,
   "id": "c385a264",
   "metadata": {},
   "outputs": [
    {
     "data": {
      "image/png": "[encoded data removed]",
      "text/plain": [
       "<Figure size 432x288 with 1 Axes>"
      ]
     },
     "metadata": {
      "needs_background": "light"
     },
     "output_type": "display_data"
    }
   ],
   "source": [
    "# 버스 종류별 퇴근 시간 평균 탑승객 수 시각화\n",
    "sns.barplot(x=\"in_out\", y=\"18~20_ride\", data=traindata)\n",
    "plt.title(\"버스 종류에 따른 평균 탑승객 수\")\n",
    "plt.show()"
   ]
  },
  {
   "cell_type": "markdown",
   "id": "ae82f33b",
   "metadata": {},
   "source": [
    "# 일별 종속변수"
   ]
  },
  {
   "cell_type": "code",
   "execution_count": 89,
   "id": "dd2fd7a0",
   "metadata": {},
   "outputs": [
    {
     "data": {
      "text/html": [
       "<div>\n",
       "<style scoped>\n",
       "    .dataframe tbody tr th:only-of-type {\n",
       "        vertical-align: middle;\n",
       "    }\n",
       "\n",
       "    .dataframe tbody tr th {\n",
       "        vertical-align: top;\n",
       "    }\n",
       "\n",
       "    .dataframe thead th {\n",
       "        text-align: right;\n",
       "    }\n",
       "</style>\n",
       "<table border=\"1\" class=\"dataframe\">\n",
       "  <thead>\n",
       "    <tr style=\"text-align: right;\">\n",
       "      <th></th>\n",
       "      <th>date</th>\n",
       "      <th>18~20_ride</th>\n",
       "      <th>8~10_ride</th>\n",
       "    </tr>\n",
       "  </thead>\n",
       "  <tbody>\n",
       "    <tr>\n",
       "      <th>0</th>\n",
       "      <td>2019-09-01</td>\n",
       "      <td>11537.0</td>\n",
       "      <td>11957.0</td>\n",
       "    </tr>\n",
       "    <tr>\n",
       "      <th>1</th>\n",
       "      <td>2019-09-02</td>\n",
       "      <td>20561.0</td>\n",
       "      <td>21844.0</td>\n",
       "    </tr>\n",
       "    <tr>\n",
       "      <th>2</th>\n",
       "      <td>2019-09-03</td>\n",
       "      <td>19743.0</td>\n",
       "      <td>25756.0</td>\n",
       "    </tr>\n",
       "    <tr>\n",
       "      <th>3</th>\n",
       "      <td>2019-09-04</td>\n",
       "      <td>20133.0</td>\n",
       "      <td>21472.0</td>\n",
       "    </tr>\n",
       "    <tr>\n",
       "      <th>4</th>\n",
       "      <td>2019-09-05</td>\n",
       "      <td>20392.0</td>\n",
       "      <td>26331.0</td>\n",
       "    </tr>\n",
       "  </tbody>\n",
       "</table>\n",
       "</div>"
      ],
      "text/plain": [
       "        date  18~20_ride  8~10_ride\n",
       "0 2019-09-01     11537.0    11957.0\n",
       "1 2019-09-02     20561.0    21844.0\n",
       "2 2019-09-03     19743.0    25756.0\n",
       "3 2019-09-04     20133.0    21472.0\n",
       "4 2019-09-05     20392.0    26331.0"
      ]
     },
     "execution_count": 89,
     "metadata": {},
     "output_type": "execute_result"
    }
   ],
   "source": [
    "# 일별 출퇴근 시간의 총 승차 인원 데이터 생성\n",
    "traindata['8~10_ride'] = traindata['8~9_ride'] + traindata['9~10_ride']\n",
    "eda_data = traindata.groupby('date')[['18~20_ride','8~10_ride']].agg('sum'\n",
    "                                                                    ).reset_index()\n",
    "# 상위 5개 행 확인\n",
    "eda_data.head()"
   ]
  },
  {
   "cell_type": "code",
   "execution_count": 90,
   "id": "742fb557",
   "metadata": {},
   "outputs": [
    {
     "data": {
      "image/png": "[encoded data removed]",
      "text/plain": [
       "<Figure size 432x288 with 1 Axes>"
      ]
     },
     "metadata": {
      "needs_background": "light"
     },
     "output_type": "display_data"
    }
   ],
   "source": [
    "# 일별 출퇴근 시간 탑승객 수 시각화\n",
    "plt.plot(\"date\", \"18~20_ride\", \"g-\", label = \"퇴근 시간 탑승객 수\", data=eda_data)\n",
    "plt.plot(\"date\", \"8~10_ride\", \"b-\", label = \"출근 시간 탑승객 수\", data=eda_data)\n",
    "plt.gcf().autofmt_xdate() # x축의 라벨이 서로 겹치지 않도록 설정\n",
    "plt.legend(loc=0) # 그래프 상에서 최적의 위치에 범례 표시\n",
    "plt.title(\"일별 출퇴근 시간 탑승객 수\")   \n",
    "plt.show()"
   ]
  },
  {
   "cell_type": "markdown",
   "id": "1fcd6e5a",
   "metadata": {},
   "source": [
    "# EDA Summary"
   ]
  },
  {
   "cell_type": "markdown",
   "id": "4e4dfa6c",
   "metadata": {},
   "source": [
    "**train/test**\n",
    "- train 에는 출근시간은 승차, 하차 모두 있지만, 퇴근시간은 승차 인원만 있다, (결측치 없음!)\n",
    "- test 에는 출근시간의 승차, 하차 만 있다. (마찬가지로 결측치 없음)\n",
    "\n",
    "**bts**\n",
    "- 하차할 때 카드를 찍지 않은 것에 대한 결측치 존재\n",
    "- bts 는 train/test 데이터의 승차 정보를 갖고 있다.\n",
    "\n",
    "**jeju_life**\n",
    "- 관련있는 변수만으로 전처리 해서 병합하자\n",
    "\n",
    "**weather**\n",
    "- 오전 10시의 기상정보만 갖고있다.\n",
    "- 날짜변수를 기준으로 train/test 에 병합하자\n",
    "\n",
    "**rain**\n",
    "- 지점 변수에 대해 test data 지점별 기상정보에 추가하자\n",
    "\n"
   ]
  },
  {
   "cell_type": "markdown",
   "id": "c90d0b49",
   "metadata": {},
   "source": [
    "# EDA Visualize"
   ]
  },
  {
   "cell_type": "markdown",
   "id": "7a0705c1",
   "metadata": {},
   "source": [
    "- 대부분의 퇴근시간 승차인원은 0~5 명 구간\n",
    "- 수요일까지 점차 증가하다가 감소\n",
    "- 시외가 약 2배 많음\n",
    "- 출근의 탑승객과 거의 유사"
   ]
  },
  {
   "cell_type": "code",
   "execution_count": null,
   "id": "4ee45d32",
   "metadata": {},
   "outputs": [],
   "source": []
  }
 ],
 "metadata": {
  "kernelspec": {
   "display_name": "Python 3",
   "language": "python",
   "name": "python3"
  },
  "language_info": {
   "codemirror_mode": {
    "name": "ipython",
    "version": 3
   },
   "file_extension": ".py",
   "mimetype": "text/x-python",
   "name": "python",
   "nbconvert_exporter": "python",
   "pygments_lexer": "ipython3",
   "version": "3.7.10"
  }
 },
 "nbformat": 4,
 "nbformat_minor": 5
}
