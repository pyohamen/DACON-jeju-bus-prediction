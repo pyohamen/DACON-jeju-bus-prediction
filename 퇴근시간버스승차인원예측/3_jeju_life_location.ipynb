{
 "cells": [
  {
   "cell_type": "markdown",
   "metadata": {},
   "source": [
    "# 데이터 불러오기"
   ]
  },
  {
   "cell_type": "code",
   "execution_count": 11,
   "metadata": {},
   "outputs": [],
   "source": [
    "# 작업 경로 설정\n",
    "import os\n",
    "os.chdir(r\"/Users/hmp/local/repos/dacon/퇴근시간버스승차인원예측\")"
   ]
  },
  {
   "cell_type": "markdown",
   "metadata": {},
   "source": [
    "# 1. Unique 한 장소 추출"
   ]
  },
  {
   "cell_type": "code",
   "execution_count": 21,
   "metadata": {},
   "outputs": [],
   "source": [
    "# 3 개의 csv 파일에서 위도와 경도 피쳐만을 가져옵니다.\n",
    "import pandas as pd\n",
    "life = pd.read_csv('secu_data/jeju_financial_life_data.csv')[['x_axis', 'y_axis']]\n",
    "train = pd.read_csv('secu_data/train.csv')[['latitude','longitude']]\n",
    "test = pd.read_csv('secu_data/test.csv')[['latitude','longitude']]\n",
    "# pd.concat() 은 여러개의 동일한 형태의 df 를 합쳐줍니다.\n",
    "df = pd.concat([train, test], axis=0)"
   ]
  },
  {
   "cell_type": "markdown",
   "metadata": {},
   "source": [
    "## 1.1 df(train, test)"
   ]
  },
  {
   "cell_type": "code",
   "execution_count": 15,
   "metadata": {},
   "outputs": [
    {
     "data": {
      "text/html": [
       "<div>\n",
       "<style scoped>\n",
       "    .dataframe tbody tr th:only-of-type {\n",
       "        vertical-align: middle;\n",
       "    }\n",
       "\n",
       "    .dataframe tbody tr th {\n",
       "        vertical-align: top;\n",
       "    }\n",
       "\n",
       "    .dataframe thead th {\n",
       "        text-align: right;\n",
       "    }\n",
       "</style>\n",
       "<table border=\"1\" class=\"dataframe\">\n",
       "  <thead>\n",
       "    <tr style=\"text-align: right;\">\n",
       "      <th></th>\n",
       "      <th>location</th>\n",
       "      <th>longitude</th>\n",
       "      <th>latitude</th>\n",
       "    </tr>\n",
       "  </thead>\n",
       "  <tbody>\n",
       "    <tr>\n",
       "      <th>0</th>\n",
       "      <td>33.4899,126.49373</td>\n",
       "      <td>126.49373</td>\n",
       "      <td>33.48990</td>\n",
       "    </tr>\n",
       "    <tr>\n",
       "      <th>1</th>\n",
       "      <td>33.48944,126.48508</td>\n",
       "      <td>126.48508</td>\n",
       "      <td>33.48944</td>\n",
       "    </tr>\n",
       "    <tr>\n",
       "      <th>2</th>\n",
       "      <td>33.48181,126.47352</td>\n",
       "      <td>126.47352</td>\n",
       "      <td>33.48181</td>\n",
       "    </tr>\n",
       "    <tr>\n",
       "      <th>3</th>\n",
       "      <td>33.50577,126.49252</td>\n",
       "      <td>126.49252</td>\n",
       "      <td>33.50577</td>\n",
       "    </tr>\n",
       "    <tr>\n",
       "      <th>4</th>\n",
       "      <td>33.255790000000005,126.4126</td>\n",
       "      <td>126.41260</td>\n",
       "      <td>33.25579</td>\n",
       "    </tr>\n",
       "  </tbody>\n",
       "</table>\n",
       "</div>"
      ],
      "text/plain": [
       "                      location  longitude  latitude\n",
       "0            33.4899,126.49373  126.49373  33.48990\n",
       "1           33.48944,126.48508  126.48508  33.48944\n",
       "2           33.48181,126.47352  126.47352  33.48181\n",
       "3           33.50577,126.49252  126.49252  33.50577\n",
       "4  33.255790000000005,126.4126  126.41260  33.25579"
      ]
     },
     "execution_count": 15,
     "metadata": {},
     "output_type": "execute_result"
    }
   ],
   "source": [
    "# location(latitude + longitude) 변수 생성\n",
    "df['location'] = df['latitude'].astype(str) + ',' + df['longitude'].astype(str)\n",
    "df = df[['location','longitude','latitude']]\n",
    "df.head()"
   ]
  },
  {
   "cell_type": "code",
   "execution_count": 16,
   "metadata": {},
   "outputs": [
    {
     "data": {
      "text/plain": [
       "(3600, 3)"
      ]
     },
     "execution_count": 16,
     "metadata": {},
     "output_type": "execute_result"
    }
   ],
   "source": [
    "# 겹치는 장소들을 제외합니다.\n",
    "location_df = pd.DataFrame(df.location.unique(), columns=['location'])\n",
    "location_df['latitude'] = location_df.location.str.split(',').str[0]\n",
    "location_df['longitude'] = location_df.location.str.split(',').str[1]\n",
    "location_df.shape # 총 3600개의 데이터"
   ]
  },
  {
   "cell_type": "code",
   "execution_count": 19,
   "metadata": {},
   "outputs": [],
   "source": [
    "# 위 데이터를 csv 파일에 저장합니다\n",
    "location_df.to_csv('df_unique_loc.csv',encoding='cp949',index=False)"
   ]
  },
  {
   "cell_type": "markdown",
   "metadata": {},
   "source": [
    "## 1.2 jeju_financial_life_data"
   ]
  },
  {
   "cell_type": "code",
   "execution_count": 22,
   "metadata": {},
   "outputs": [
    {
     "data": {
      "text/html": [
       "<div>\n",
       "<style scoped>\n",
       "    .dataframe tbody tr th:only-of-type {\n",
       "        vertical-align: middle;\n",
       "    }\n",
       "\n",
       "    .dataframe tbody tr th {\n",
       "        vertical-align: top;\n",
       "    }\n",
       "\n",
       "    .dataframe thead th {\n",
       "        text-align: right;\n",
       "    }\n",
       "</style>\n",
       "<table border=\"1\" class=\"dataframe\">\n",
       "  <thead>\n",
       "    <tr style=\"text-align: right;\">\n",
       "      <th></th>\n",
       "      <th>location</th>\n",
       "      <th>longitude</th>\n",
       "      <th>latitude</th>\n",
       "    </tr>\n",
       "  </thead>\n",
       "  <tbody>\n",
       "    <tr>\n",
       "      <th>0</th>\n",
       "      <td>33.5132095,126.565889</td>\n",
       "      <td>126.565889</td>\n",
       "      <td>33.5132095</td>\n",
       "    </tr>\n",
       "    <tr>\n",
       "      <th>1</th>\n",
       "      <td>33.2472248,126.497120</td>\n",
       "      <td>126.497120</td>\n",
       "      <td>33.2472248</td>\n",
       "    </tr>\n",
       "    <tr>\n",
       "      <th>2</th>\n",
       "      <td>33.2472248,126.497120</td>\n",
       "      <td>126.497120</td>\n",
       "      <td>33.2472248</td>\n",
       "    </tr>\n",
       "    <tr>\n",
       "      <th>3</th>\n",
       "      <td>33.2472248,126.497120</td>\n",
       "      <td>126.497120</td>\n",
       "      <td>33.2472248</td>\n",
       "    </tr>\n",
       "    <tr>\n",
       "      <th>4</th>\n",
       "      <td>33.2472248,126.497120</td>\n",
       "      <td>126.497120</td>\n",
       "      <td>33.2472248</td>\n",
       "    </tr>\n",
       "  </tbody>\n",
       "</table>\n",
       "</div>"
      ],
      "text/plain": [
       "                location   longitude    latitude\n",
       "0  33.5132095,126.565889  126.565889  33.5132095\n",
       "1  33.2472248,126.497120  126.497120  33.2472248\n",
       "2  33.2472248,126.497120  126.497120  33.2472248\n",
       "3  33.2472248,126.497120  126.497120  33.2472248\n",
       "4  33.2472248,126.497120  126.497120  33.2472248"
      ]
     },
     "execution_count": 22,
     "metadata": {},
     "output_type": "execute_result"
    }
   ],
   "source": [
    "# location(y_axis + x_axis) 변수 생성\n",
    "life['latitude'] = life['y_axis'].astype(str).str[:10]\n",
    "life['longitude'] = life['x_axis'].astype(str).str[:10]\n",
    "life['location'] = life['latitude'] + ',' + life['longitude']\n",
    "life = life[['location','longitude','latitude']]\n",
    "life.head()"
   ]
  },
  {
   "cell_type": "code",
   "execution_count": 23,
   "metadata": {},
   "outputs": [
    {
     "data": {
      "text/plain": [
       "(474, 3)"
      ]
     },
     "execution_count": 23,
     "metadata": {},
     "output_type": "execute_result"
    }
   ],
   "source": [
    "# unique한 장소 추출\n",
    "location_life = pd.DataFrame(life.location.unique(),columns=['location'])\n",
    "location_life['latitude'] = location_life.location.str.split(',').str[0]\n",
    "location_life['longitude'] = location_life.location.str.split(',').str[1]\n",
    "location_life.shape # 총 474개의 데이터"
   ]
  },
  {
   "cell_type": "code",
   "execution_count": 24,
   "metadata": {},
   "outputs": [],
   "source": [
    "# csv 파일 저장\n",
    "location_life.to_csv('life_unique_loc.csv',encoding='cp949',index=False)"
   ]
  },
  {
   "cell_type": "markdown",
   "metadata": {},
   "source": [
    "# 2. 지오코딩 프로그램(Geocorder-Xr)을 통해 행정 구역 이름을 추출"
   ]
  },
  {
   "cell_type": "markdown",
   "metadata": {},
   "source": [
    "* 1. http://www.gisdeveloper.co.kr/?p=4784에 접속\n",
    "* 2. Installer_DuraMap-Xr를 먼저 실행하고, Geocorder-Xr_(해당버전) 폴더에서 XrGeocoder 를 실행"
   ]
  },
  {
   "cell_type": "markdown",
   "metadata": {},
   "source": [
    "## 2.1 How to use"
   ]
  },
  {
   "cell_type": "markdown",
   "metadata": {},
   "source": [
    "life_unique_loc.csv\n",
    "\n",
    "* [입력 파일]을 클릭하고 life_unique_loc.csv를 선택합니다.\n",
    "* [좌표→주소]를 선택하고 경도 필드를 longitude, 위도 필드를 latitude로 설정합니다.\n",
    "* [결과 SHP 파일]에 life_location를 입력 후 [결과를 CSV 파일 형태로도 저장]을 체크하고 시작을 누릅니다."
   ]
  },
  {
   "cell_type": "markdown",
   "metadata": {},
   "source": [
    "df_unique_loc.csv\n",
    "\n",
    "* [입력 파일]을 클릭하고 df_unique_local.csv를 선택합니다.\n",
    "* [좌표→주소]를 선택하고 경도 필드를 longitude, 위도 필드를 latitude로 설정합니다.\n",
    "* [결과 SHP 파일]에 df_location를 입력 후 [결과를 CSV 파일 형태로도 저장]을 체크하고 시작을 누릅니다."
   ]
  },
  {
   "cell_type": "markdown",
   "metadata": {},
   "source": [
    "# 3. df_"
   ]
  },
  {
   "cell_type": "code",
   "execution_count": null,
   "metadata": {},
   "outputs": [],
   "source": []
  }
 ],
 "metadata": {
  "kernelspec": {
   "display_name": "Python 3",
   "language": "python",
   "name": "python3"
  },
  "language_info": {
   "codemirror_mode": {
    "name": "ipython",
    "version": 3
   },
   "file_extension": ".py",
   "mimetype": "text/x-python",
   "name": "python",
   "nbconvert_exporter": "python",
   "pygments_lexer": "ipython3",
   "version": "3.7.10"
  },
  "toc": {
   "base_numbering": 1,
   "nav_menu": {},
   "number_sections": true,
   "sideBar": true,
   "skip_h1_title": false,
   "title_cell": "Table of Contents",
   "title_sidebar": "Contents",
   "toc_cell": false,
   "toc_position": {},
   "toc_section_display": true,
   "toc_window_display": false
  }
 },
 "nbformat": 4,
 "nbformat_minor": 2
}
