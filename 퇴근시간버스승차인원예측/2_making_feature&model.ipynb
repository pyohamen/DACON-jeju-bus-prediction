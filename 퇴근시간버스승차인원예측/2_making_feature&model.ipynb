{
 "cells": [
  {
   "cell_type": "markdown",
   "metadata": {},
   "source": [
    "# 데이터 전처리\n",
    "머신러닝에 입력할 설명변수를 만들자."
   ]
  },
  {
   "cell_type": "markdown",
   "metadata": {},
   "source": [
    "# 패키지 설치"
   ]
  },
  {
   "cell_type": "code",
   "execution_count": 52,
   "metadata": {},
   "outputs": [
    {
     "name": "stdout",
     "output_type": "stream",
     "text": [
      "Requirement already satisfied: tqdm in /Users/hmp/opt/anaconda3/envs/dacon/lib/python3.7/site-packages (4.59.0)\n",
      "Collecting ipywidgets\n",
      "  Using cached ipywidgets-7.6.3-py2.py3-none-any.whl (121 kB)\n",
      "Requirement already satisfied: ipython>=4.0.0 in /Users/hmp/opt/anaconda3/envs/dacon/lib/python3.7/site-packages (from ipywidgets) (7.22.0)\n",
      "Requirement already satisfied: ipykernel>=4.5.1 in /Users/hmp/opt/anaconda3/envs/dacon/lib/python3.7/site-packages (from ipywidgets) (5.5.3)\n",
      "Requirement already satisfied: nbformat>=4.2.0 in /Users/hmp/opt/anaconda3/envs/dacon/lib/python3.7/site-packages (from ipywidgets) (5.1.3)\n",
      "Requirement already satisfied: traitlets>=4.3.1 in /Users/hmp/opt/anaconda3/envs/dacon/lib/python3.7/site-packages (from ipywidgets) (5.0.5)\n",
      "Collecting jupyterlab-widgets>=1.0.0\n",
      "  Using cached jupyterlab_widgets-1.0.0-py3-none-any.whl (243 kB)\n",
      "Collecting widgetsnbextension~=3.5.0\n",
      "  Using cached widgetsnbextension-3.5.1-py2.py3-none-any.whl (2.2 MB)\n",
      "Requirement already satisfied: appnope in /Users/hmp/opt/anaconda3/envs/dacon/lib/python3.7/site-packages (from ipykernel>=4.5.1->ipywidgets) (0.1.2)\n",
      "Requirement already satisfied: tornado>=4.2 in /Users/hmp/opt/anaconda3/envs/dacon/lib/python3.7/site-packages (from ipykernel>=4.5.1->ipywidgets) (6.1)\n",
      "Requirement already satisfied: jupyter-client in /Users/hmp/opt/anaconda3/envs/dacon/lib/python3.7/site-packages (from ipykernel>=4.5.1->ipywidgets) (6.1.12)\n",
      "Requirement already satisfied: decorator in /Users/hmp/opt/anaconda3/envs/dacon/lib/python3.7/site-packages (from ipython>=4.0.0->ipywidgets) (5.0.3)\n",
      "Requirement already satisfied: prompt-toolkit!=3.0.0,!=3.0.1,<3.1.0,>=2.0.0 in /Users/hmp/opt/anaconda3/envs/dacon/lib/python3.7/site-packages (from ipython>=4.0.0->ipywidgets) (3.0.18)\n",
      "Requirement already satisfied: pickleshare in /Users/hmp/opt/anaconda3/envs/dacon/lib/python3.7/site-packages (from ipython>=4.0.0->ipywidgets) (0.7.5)\n",
      "Requirement already satisfied: jedi>=0.16 in /Users/hmp/opt/anaconda3/envs/dacon/lib/python3.7/site-packages (from ipython>=4.0.0->ipywidgets) (0.18.0)\n",
      "Requirement already satisfied: backcall in /Users/hmp/opt/anaconda3/envs/dacon/lib/python3.7/site-packages (from ipython>=4.0.0->ipywidgets) (0.2.0)\n",
      "Requirement already satisfied: pexpect>4.3 in /Users/hmp/opt/anaconda3/envs/dacon/lib/python3.7/site-packages (from ipython>=4.0.0->ipywidgets) (4.8.0)\n",
      "Requirement already satisfied: pygments in /Users/hmp/opt/anaconda3/envs/dacon/lib/python3.7/site-packages (from ipython>=4.0.0->ipywidgets) (2.8.1)\n",
      "Requirement already satisfied: setuptools>=18.5 in /Users/hmp/opt/anaconda3/envs/dacon/lib/python3.7/site-packages (from ipython>=4.0.0->ipywidgets) (52.0.0.post20210125)\n",
      "Requirement already satisfied: parso<0.9.0,>=0.8.0 in /Users/hmp/opt/anaconda3/envs/dacon/lib/python3.7/site-packages (from jedi>=0.16->ipython>=4.0.0->ipywidgets) (0.8.2)\n",
      "Requirement already satisfied: jsonschema!=2.5.0,>=2.4 in /Users/hmp/opt/anaconda3/envs/dacon/lib/python3.7/site-packages (from nbformat>=4.2.0->ipywidgets) (3.2.0)\n",
      "Requirement already satisfied: jupyter-core in /Users/hmp/opt/anaconda3/envs/dacon/lib/python3.7/site-packages (from nbformat>=4.2.0->ipywidgets) (4.7.1)\n",
      "Requirement already satisfied: ipython-genutils in /Users/hmp/opt/anaconda3/envs/dacon/lib/python3.7/site-packages (from nbformat>=4.2.0->ipywidgets) (0.2.0)\n",
      "Requirement already satisfied: pyrsistent>=0.14.0 in /Users/hmp/opt/anaconda3/envs/dacon/lib/python3.7/site-packages (from jsonschema!=2.5.0,>=2.4->nbformat>=4.2.0->ipywidgets) (0.17.3)\n",
      "Requirement already satisfied: attrs>=17.4.0 in /Users/hmp/opt/anaconda3/envs/dacon/lib/python3.7/site-packages (from jsonschema!=2.5.0,>=2.4->nbformat>=4.2.0->ipywidgets) (20.3.0)\n",
      "Requirement already satisfied: six>=1.11.0 in /Users/hmp/opt/anaconda3/envs/dacon/lib/python3.7/site-packages (from jsonschema!=2.5.0,>=2.4->nbformat>=4.2.0->ipywidgets) (1.15.0)\n",
      "Requirement already satisfied: importlib-metadata in /Users/hmp/opt/anaconda3/envs/dacon/lib/python3.7/site-packages (from jsonschema!=2.5.0,>=2.4->nbformat>=4.2.0->ipywidgets) (3.10.0)\n",
      "Requirement already satisfied: ptyprocess>=0.5 in /Users/hmp/opt/anaconda3/envs/dacon/lib/python3.7/site-packages (from pexpect>4.3->ipython>=4.0.0->ipywidgets) (0.7.0)\n",
      "Requirement already satisfied: wcwidth in /Users/hmp/opt/anaconda3/envs/dacon/lib/python3.7/site-packages (from prompt-toolkit!=3.0.0,!=3.0.1,<3.1.0,>=2.0.0->ipython>=4.0.0->ipywidgets) (0.2.5)\n",
      "Requirement already satisfied: notebook>=4.4.1 in /Users/hmp/opt/anaconda3/envs/dacon/lib/python3.7/site-packages (from widgetsnbextension~=3.5.0->ipywidgets) (6.3.0)\n",
      "Requirement already satisfied: terminado>=0.8.3 in /Users/hmp/opt/anaconda3/envs/dacon/lib/python3.7/site-packages (from notebook>=4.4.1->widgetsnbextension~=3.5.0->ipywidgets) (0.9.4)\n",
      "Requirement already satisfied: nbconvert in /Users/hmp/opt/anaconda3/envs/dacon/lib/python3.7/site-packages (from notebook>=4.4.1->widgetsnbextension~=3.5.0->ipywidgets) (6.0.7)\n",
      "Requirement already satisfied: argon2-cffi in /Users/hmp/opt/anaconda3/envs/dacon/lib/python3.7/site-packages (from notebook>=4.4.1->widgetsnbextension~=3.5.0->ipywidgets) (20.1.0)\n",
      "Requirement already satisfied: pyzmq>=17 in /Users/hmp/opt/anaconda3/envs/dacon/lib/python3.7/site-packages (from notebook>=4.4.1->widgetsnbextension~=3.5.0->ipywidgets) (22.0.3)\n",
      "Requirement already satisfied: Send2Trash>=1.5.0 in /Users/hmp/opt/anaconda3/envs/dacon/lib/python3.7/site-packages (from notebook>=4.4.1->widgetsnbextension~=3.5.0->ipywidgets) (1.5.0)\n",
      "Requirement already satisfied: jinja2 in /Users/hmp/opt/anaconda3/envs/dacon/lib/python3.7/site-packages (from notebook>=4.4.1->widgetsnbextension~=3.5.0->ipywidgets) (2.11.3)\n",
      "Requirement already satisfied: prometheus-client in /Users/hmp/opt/anaconda3/envs/dacon/lib/python3.7/site-packages (from notebook>=4.4.1->widgetsnbextension~=3.5.0->ipywidgets) (0.10.0)\n",
      "Requirement already satisfied: python-dateutil>=2.1 in /Users/hmp/opt/anaconda3/envs/dacon/lib/python3.7/site-packages (from jupyter-client->ipykernel>=4.5.1->ipywidgets) (2.8.1)\n",
      "Requirement already satisfied: cffi>=1.0.0 in /Users/hmp/opt/anaconda3/envs/dacon/lib/python3.7/site-packages (from argon2-cffi->notebook>=4.4.1->widgetsnbextension~=3.5.0->ipywidgets) (1.14.5)\n",
      "Requirement already satisfied: pycparser in /Users/hmp/opt/anaconda3/envs/dacon/lib/python3.7/site-packages (from cffi>=1.0.0->argon2-cffi->notebook>=4.4.1->widgetsnbextension~=3.5.0->ipywidgets) (2.20)\n",
      "Requirement already satisfied: zipp>=0.5 in /Users/hmp/opt/anaconda3/envs/dacon/lib/python3.7/site-packages (from importlib-metadata->jsonschema!=2.5.0,>=2.4->nbformat>=4.2.0->ipywidgets) (3.4.1)\n",
      "Requirement already satisfied: typing-extensions>=3.6.4 in /Users/hmp/opt/anaconda3/envs/dacon/lib/python3.7/site-packages (from importlib-metadata->jsonschema!=2.5.0,>=2.4->nbformat>=4.2.0->ipywidgets) (3.7.4.3)\n",
      "Requirement already satisfied: MarkupSafe>=0.23 in /Users/hmp/opt/anaconda3/envs/dacon/lib/python3.7/site-packages (from jinja2->notebook>=4.4.1->widgetsnbextension~=3.5.0->ipywidgets) (1.1.1)\n",
      "Requirement already satisfied: jupyterlab-pygments in /Users/hmp/opt/anaconda3/envs/dacon/lib/python3.7/site-packages (from nbconvert->notebook>=4.4.1->widgetsnbextension~=3.5.0->ipywidgets) (0.1.2)\n",
      "Requirement already satisfied: entrypoints>=0.2.2 in /Users/hmp/opt/anaconda3/envs/dacon/lib/python3.7/site-packages (from nbconvert->notebook>=4.4.1->widgetsnbextension~=3.5.0->ipywidgets) (0.3)\n",
      "Requirement already satisfied: testpath in /Users/hmp/opt/anaconda3/envs/dacon/lib/python3.7/site-packages (from nbconvert->notebook>=4.4.1->widgetsnbextension~=3.5.0->ipywidgets) (0.4.4)\n",
      "Requirement already satisfied: nbclient<0.6.0,>=0.5.0 in /Users/hmp/opt/anaconda3/envs/dacon/lib/python3.7/site-packages (from nbconvert->notebook>=4.4.1->widgetsnbextension~=3.5.0->ipywidgets) (0.5.3)\n",
      "Requirement already satisfied: bleach in /Users/hmp/opt/anaconda3/envs/dacon/lib/python3.7/site-packages (from nbconvert->notebook>=4.4.1->widgetsnbextension~=3.5.0->ipywidgets) (3.3.0)\n",
      "Requirement already satisfied: defusedxml in /Users/hmp/opt/anaconda3/envs/dacon/lib/python3.7/site-packages (from nbconvert->notebook>=4.4.1->widgetsnbextension~=3.5.0->ipywidgets) (0.7.1)\n",
      "Requirement already satisfied: pandocfilters>=1.4.1 in /Users/hmp/opt/anaconda3/envs/dacon/lib/python3.7/site-packages (from nbconvert->notebook>=4.4.1->widgetsnbextension~=3.5.0->ipywidgets) (1.4.3)\n",
      "Requirement already satisfied: mistune<2,>=0.8.1 in /Users/hmp/opt/anaconda3/envs/dacon/lib/python3.7/site-packages (from nbconvert->notebook>=4.4.1->widgetsnbextension~=3.5.0->ipywidgets) (0.8.4)\n"
     ]
    },
    {
     "name": "stdout",
     "output_type": "stream",
     "text": [
      "Requirement already satisfied: nest-asyncio in /Users/hmp/opt/anaconda3/envs/dacon/lib/python3.7/site-packages (from nbclient<0.6.0,>=0.5.0->nbconvert->notebook>=4.4.1->widgetsnbextension~=3.5.0->ipywidgets) (1.5.1)\n",
      "Requirement already satisfied: async-generator in /Users/hmp/opt/anaconda3/envs/dacon/lib/python3.7/site-packages (from nbclient<0.6.0,>=0.5.0->nbconvert->notebook>=4.4.1->widgetsnbextension~=3.5.0->ipywidgets) (1.10)\n",
      "Requirement already satisfied: packaging in /Users/hmp/opt/anaconda3/envs/dacon/lib/python3.7/site-packages (from bleach->nbconvert->notebook>=4.4.1->widgetsnbextension~=3.5.0->ipywidgets) (20.9)\n",
      "Requirement already satisfied: webencodings in /Users/hmp/opt/anaconda3/envs/dacon/lib/python3.7/site-packages (from bleach->nbconvert->notebook>=4.4.1->widgetsnbextension~=3.5.0->ipywidgets) (0.5.1)\n",
      "Requirement already satisfied: pyparsing>=2.0.2 in /Users/hmp/opt/anaconda3/envs/dacon/lib/python3.7/site-packages (from packaging->bleach->nbconvert->notebook>=4.4.1->widgetsnbextension~=3.5.0->ipywidgets) (2.4.7)\n",
      "Installing collected packages: widgetsnbextension, jupyterlab-widgets, ipywidgets\n",
      "Successfully installed ipywidgets-7.6.3 jupyterlab-widgets-1.0.0 widgetsnbextension-3.5.1\n"
     ]
    }
   ],
   "source": [
    "!pip3 install tqdm\n",
    "!pip3 install ipywidgets"
   ]
  },
  {
   "cell_type": "markdown",
   "metadata": {},
   "source": [
    "# 데이터 불러오기"
   ]
  },
  {
   "cell_type": "code",
   "execution_count": 1,
   "metadata": {},
   "outputs": [],
   "source": [
    "# 작업 경로 설정\n",
    "import os\n",
    "os.chdir(r\"/Users/hmp/local/repos/dacon/퇴근시간버스승차인원예측\")"
   ]
  },
  {
   "cell_type": "code",
   "execution_count": 2,
   "metadata": {},
   "outputs": [],
   "source": [
    "# 데이터 로드\n",
    "import pandas as pd\n",
    "train = pd.read_csv('secu_data/train.csv')\n",
    "test = pd.read_csv('secu_data/test.csv')\n",
    "bts= pd.read_csv('secu_data/bus_bts.csv')\n",
    "jeju_life = pd.read_csv('secu_data/jeju_financial_life_data.csv')\n",
    "weather = pd.read_csv('weather.csv', encoding='cp949')\n",
    "rain = pd.read_csv('rain.csv', encoding='utf-8')"
   ]
  },
  {
   "cell_type": "code",
   "execution_count": 3,
   "metadata": {},
   "outputs": [
    {
     "name": "stdout",
     "output_type": "stream",
     "text": [
      "This is a Mac. so, font has been decided AppleGothic\n"
     ]
    }
   ],
   "source": [
    "# 시각화에 필요한 라이브러리를 import\n",
    "import matplotlib\n",
    "import matplotlib.pyplot as plt\n",
    "import seaborn as sns\n",
    "\n",
    "# 쥬피터노트에서 결과를 출력하도록 설정\n",
    "%matplotlib inline\n",
    "\n",
    "# 시각화 한글 폰트 설정\n",
    "import platform\n",
    "# 윈도우 사용자\n",
    "if platform.system() == 'Windows':\n",
    "    print('This is a Windows. so, font has been decided Malgun Gothic')\n",
    "    plt.rc('font', family='Malgun Gothic')\n",
    "\n",
    "# Mac 사용자\n",
    "elif platform.system() == 'Darwin':\n",
    "    print('This is a Mac. so, font has been decided AppleGothic')\n",
    "    plt.rc('font', family='AppleGothic')\n",
    "\n",
    "# 마이너스 기호 출력\n",
    "plt.rc('axes', unicode_minus=False)\n",
    "\n",
    "# 분석에 문제가 없는 경고 메세지는 숨긴다.\n",
    "import warnings\n",
    "warnings.filterwarnings('ignore') "
   ]
  },
  {
   "cell_type": "markdown",
   "metadata": {},
   "source": [
    "# train / test 구분 피쳐 생성\n",
    "> 학습데이터로 만든 모델에 테스트 데이터를 입력으로 넣을 것이기 때문에, 두 데이터는 변수들이 같다. 따라서 구분할 수 있는 cue 변수를 추가"
   ]
  },
  {
   "cell_type": "code",
   "execution_count": 4,
   "metadata": {},
   "outputs": [],
   "source": [
    "train['cue'] = 0\n",
    "test['cue'] = 1\n",
    "\n",
    "# 학습 데이터와 테스트 데이터 통합\n",
    "df = pd.concat([train, test], axis=0)"
   ]
  },
  {
   "cell_type": "markdown",
   "metadata": {},
   "source": [
    "# 1. 내부 데이터를 통해 변수 생성"
   ]
  },
  {
   "cell_type": "markdown",
   "metadata": {},
   "source": [
    "## 1.1 EDA 를 통한 변수"
   ]
  },
  {
   "cell_type": "markdown",
   "metadata": {},
   "source": [
    "### 1.1.1 요일 변수 ( weekday, weekdaymean )"
   ]
  },
  {
   "cell_type": "code",
   "execution_count": 5,
   "metadata": {},
   "outputs": [],
   "source": [
    "# datetime 변수형으로 변환\n",
    "df['date'] = pd.to_datetime(df['date'])\n",
    "# 요일 추출 (0-월요일 ~ 6-일요일)\n",
    "df['weekday'] = df['date'].dt.weekday"
   ]
  },
  {
   "cell_type": "code",
   "execution_count": 6,
   "metadata": {},
   "outputs": [
    {
     "data": {
      "text/html": [
       "<div>\n",
       "<style scoped>\n",
       "    .dataframe tbody tr th:only-of-type {\n",
       "        vertical-align: middle;\n",
       "    }\n",
       "\n",
       "    .dataframe tbody tr th {\n",
       "        vertical-align: top;\n",
       "    }\n",
       "\n",
       "    .dataframe thead th {\n",
       "        text-align: right;\n",
       "    }\n",
       "</style>\n",
       "<table border=\"1\" class=\"dataframe\">\n",
       "  <thead>\n",
       "    <tr style=\"text-align: right;\">\n",
       "      <th></th>\n",
       "      <th>weekday</th>\n",
       "    </tr>\n",
       "  </thead>\n",
       "  <tbody>\n",
       "    <tr>\n",
       "      <th>0</th>\n",
       "      <td>6</td>\n",
       "    </tr>\n",
       "    <tr>\n",
       "      <th>1</th>\n",
       "      <td>6</td>\n",
       "    </tr>\n",
       "    <tr>\n",
       "      <th>2</th>\n",
       "      <td>6</td>\n",
       "    </tr>\n",
       "    <tr>\n",
       "      <th>3</th>\n",
       "      <td>6</td>\n",
       "    </tr>\n",
       "    <tr>\n",
       "      <th>4</th>\n",
       "      <td>6</td>\n",
       "    </tr>\n",
       "  </tbody>\n",
       "</table>\n",
       "</div>"
      ],
      "text/plain": [
       "   weekday\n",
       "0        6\n",
       "1        6\n",
       "2        6\n",
       "3        6\n",
       "4        6"
      ]
     },
     "execution_count": 6,
     "metadata": {},
     "output_type": "execute_result"
    }
   ],
   "source": [
    "df[['weekday']].head()"
   ]
  },
  {
   "cell_type": "code",
   "execution_count": 8,
   "metadata": {},
   "outputs": [],
   "source": [
    "# 요일별 평균 탑승 승객수를 구하는 함수\n",
    "def week_mean() :\n",
    "    # 전체 데이터에서 train 데이터에 해당하는 행 추출\n",
    "    train_data = df.query('cue==0').reset_index(drop=True)\n",
    "    \n",
    "    # 일괄적으로 1의 값을 가지는 'weekdaymean'변수 생성\n",
    "    df['weekdaymean'] = 1\n",
    "\n",
    "    # 각 요일에 해당하는 인덱스 추출\n",
    "    index0 = df.query('weekday==0').index\n",
    "    index1 = df.query('weekday==1').index\n",
    "    index2 = df.query('weekday==2').index\n",
    "    index3 = df.query('weekday==3').index\n",
    "    index4 = df.query('weekday==4').index\n",
    "    index5 = df.query('weekday==5').index\n",
    "    index6 = df.query('weekday==6').index\n",
    "\n",
    "    # 인덱스를 활용하여 'weekdaymean'의 값을 각 요일에 맞는 평균 탑승 승객수로 변경 \n",
    "    df.iloc[index0,-1] = train_data.query('weekday==0')['18~20_ride'].mean()\n",
    "    df.iloc[index1,-1] = train_data.query('weekday==1')['18~20_ride'].mean()\n",
    "    df.iloc[index2,-1] = train_data.query('weekday==2')['18~20_ride'].mean()\n",
    "    df.iloc[index3,-1] = train_data.query('weekday==3')['18~20_ride'].mean()\n",
    "    df.iloc[index4,-1] = train_data.query('weekday==4')['18~20_ride'].mean()\n",
    "    df.iloc[index5,-1] = train_data.query('weekday==5')['18~20_ride'].mean()\n",
    "    df.iloc[index6,-1] = train_data.query('weekday==6')['18~20_ride'].mean()\n",
    "    \n",
    "    return df\n",
    "\n",
    "# 함수를 실행하여 변수 생성\n",
    "df = week_mean()"
   ]
  },
  {
   "cell_type": "code",
   "execution_count": 10,
   "metadata": {},
   "outputs": [
    {
     "data": {
      "text/html": [
       "<div>\n",
       "<style scoped>\n",
       "    .dataframe tbody tr th:only-of-type {\n",
       "        vertical-align: middle;\n",
       "    }\n",
       "\n",
       "    .dataframe tbody tr th {\n",
       "        vertical-align: top;\n",
       "    }\n",
       "\n",
       "    .dataframe thead th {\n",
       "        text-align: right;\n",
       "    }\n",
       "</style>\n",
       "<table border=\"1\" class=\"dataframe\">\n",
       "  <thead>\n",
       "    <tr style=\"text-align: right;\">\n",
       "      <th></th>\n",
       "      <th>weekdaymean</th>\n",
       "    </tr>\n",
       "  </thead>\n",
       "  <tbody>\n",
       "    <tr>\n",
       "      <th>0</th>\n",
       "      <td>1.034282</td>\n",
       "    </tr>\n",
       "    <tr>\n",
       "      <th>1</th>\n",
       "      <td>1.034282</td>\n",
       "    </tr>\n",
       "    <tr>\n",
       "      <th>2</th>\n",
       "      <td>1.034282</td>\n",
       "    </tr>\n",
       "    <tr>\n",
       "      <th>3</th>\n",
       "      <td>1.034282</td>\n",
       "    </tr>\n",
       "    <tr>\n",
       "      <th>4</th>\n",
       "      <td>1.034282</td>\n",
       "    </tr>\n",
       "  </tbody>\n",
       "</table>\n",
       "</div>"
      ],
      "text/plain": [
       "   weekdaymean\n",
       "0     1.034282\n",
       "1     1.034282\n",
       "2     1.034282\n",
       "3     1.034282\n",
       "4     1.034282"
      ]
     },
     "execution_count": 10,
     "metadata": {},
     "output_type": "execute_result"
    }
   ],
   "source": [
    "df[['weekdaymean']].head()"
   ]
  },
  {
   "cell_type": "markdown",
   "metadata": {},
   "source": [
    "### 1.1.2 버스 종류별 평균 탑승객 수 ( in_out_mean )"
   ]
  },
  {
   "cell_type": "code",
   "execution_count": 14,
   "metadata": {},
   "outputs": [],
   "source": [
    "# 버스 종류별 평균 탑승 승객수를 구하는 함수\n",
    "def inout_mean() :\n",
    "    # 전체 데이터에서 train 데이터에 해당하는 행 추출\n",
    "    train_data = df.query('cue==0').reset_index(drop=True)\n",
    "    \n",
    "    # 일괄적으로 1의 값을 가지는 in_out_mean 변수 생성\n",
    "    df['in_out_mean'] = 1\n",
    "\n",
    "    # 버스 종류별 인덱스 추출\n",
    "    in_index = df.query('in_out == \"시내\"').index # 시내버스\n",
    "    out_index = df.query('in_out == \"시외\"').index # 시외버스\n",
    "\n",
    "    # 인덱스를 활용하여 in_out_mean의 값을 각 버스 종류에 맞는 \n",
    "    # 평균 탑승 승객수로 변경\n",
    "    df.iloc[in_index,-1] = train_data.query('in_out == \"시내\"')['18~20_ride'].mean()\n",
    "    df.iloc[out_index,-1] = train_data.query('in_out == \"시외\"')['18~20_ride'].mean()\n",
    "    \n",
    "    return df\n",
    "\n",
    "# 함수를 실행하여 변수 생성\n",
    "df = inout_mean()"
   ]
  },
  {
   "cell_type": "code",
   "execution_count": 15,
   "metadata": {},
   "outputs": [
    {
     "data": {
      "text/html": [
       "<div>\n",
       "<style scoped>\n",
       "    .dataframe tbody tr th:only-of-type {\n",
       "        vertical-align: middle;\n",
       "    }\n",
       "\n",
       "    .dataframe tbody tr th {\n",
       "        vertical-align: top;\n",
       "    }\n",
       "\n",
       "    .dataframe thead th {\n",
       "        text-align: right;\n",
       "    }\n",
       "</style>\n",
       "<table border=\"1\" class=\"dataframe\">\n",
       "  <thead>\n",
       "    <tr style=\"text-align: right;\">\n",
       "      <th></th>\n",
       "      <th>in_out_mean</th>\n",
       "    </tr>\n",
       "  </thead>\n",
       "  <tbody>\n",
       "    <tr>\n",
       "      <th>0</th>\n",
       "      <td>2.044345</td>\n",
       "    </tr>\n",
       "    <tr>\n",
       "      <th>1</th>\n",
       "      <td>2.044345</td>\n",
       "    </tr>\n",
       "    <tr>\n",
       "      <th>2</th>\n",
       "      <td>2.044345</td>\n",
       "    </tr>\n",
       "    <tr>\n",
       "      <th>3</th>\n",
       "      <td>1.228499</td>\n",
       "    </tr>\n",
       "    <tr>\n",
       "      <th>4</th>\n",
       "      <td>1.228499</td>\n",
       "    </tr>\n",
       "  </tbody>\n",
       "</table>\n",
       "</div>"
      ],
      "text/plain": [
       "   in_out_mean\n",
       "0     2.044345\n",
       "1     2.044345\n",
       "2     2.044345\n",
       "3     1.228499\n",
       "4     1.228499"
      ]
     },
     "execution_count": 15,
     "metadata": {},
     "output_type": "execute_result"
    }
   ],
   "source": [
    "df[['in_out_mean']].head()"
   ]
  },
  {
   "cell_type": "markdown",
   "metadata": {},
   "source": [
    "### 1.1.3 일별 오전 시간대의 총 탑승객 수(date, x~y_ride_sum)"
   ]
  },
  {
   "cell_type": "code",
   "execution_count": 16,
   "metadata": {},
   "outputs": [],
   "source": [
    "# 날짜별 오전시간에 탑승한 총 승객수\n",
    "f=df.groupby('date')['6~7_ride','7~8_ride','8~9_ride','9~10_ride','10~11_ride'\n",
    "                    ].sum().reset_index()\n",
    "\n",
    "# 변수명 바꾸기\n",
    "f.columns=['date','6~7_ride_sum','7~8_ride_sum','8~9_ride_sum','9~10_ride_sum',\n",
    "           '10~11_ride_sum']\n",
    "\n",
    "# 기존의 데이터프레임에 새로운 변수를 병합\n",
    "df = pd.merge(df, f, how='left', on='date')"
   ]
  },
  {
   "cell_type": "code",
   "execution_count": 17,
   "metadata": {},
   "outputs": [
    {
     "data": {
      "text/html": [
       "<div>\n",
       "<style scoped>\n",
       "    .dataframe tbody tr th:only-of-type {\n",
       "        vertical-align: middle;\n",
       "    }\n",
       "\n",
       "    .dataframe tbody tr th {\n",
       "        vertical-align: top;\n",
       "    }\n",
       "\n",
       "    .dataframe thead th {\n",
       "        text-align: right;\n",
       "    }\n",
       "</style>\n",
       "<table border=\"1\" class=\"dataframe\">\n",
       "  <thead>\n",
       "    <tr style=\"text-align: right;\">\n",
       "      <th></th>\n",
       "      <th>date</th>\n",
       "      <th>6~7_ride_sum</th>\n",
       "      <th>7~8_ride_sum</th>\n",
       "      <th>8~9_ride_sum</th>\n",
       "      <th>9~10_ride_sum</th>\n",
       "      <th>10~11_ride_sum</th>\n",
       "    </tr>\n",
       "  </thead>\n",
       "  <tbody>\n",
       "    <tr>\n",
       "      <th>0</th>\n",
       "      <td>2019-09-01</td>\n",
       "      <td>2942.0</td>\n",
       "      <td>4518.0</td>\n",
       "      <td>5682.0</td>\n",
       "      <td>6275.0</td>\n",
       "      <td>6774.0</td>\n",
       "    </tr>\n",
       "    <tr>\n",
       "      <th>1</th>\n",
       "      <td>2019-09-01</td>\n",
       "      <td>2942.0</td>\n",
       "      <td>4518.0</td>\n",
       "      <td>5682.0</td>\n",
       "      <td>6275.0</td>\n",
       "      <td>6774.0</td>\n",
       "    </tr>\n",
       "    <tr>\n",
       "      <th>2</th>\n",
       "      <td>2019-09-01</td>\n",
       "      <td>2942.0</td>\n",
       "      <td>4518.0</td>\n",
       "      <td>5682.0</td>\n",
       "      <td>6275.0</td>\n",
       "      <td>6774.0</td>\n",
       "    </tr>\n",
       "    <tr>\n",
       "      <th>3</th>\n",
       "      <td>2019-09-01</td>\n",
       "      <td>2942.0</td>\n",
       "      <td>4518.0</td>\n",
       "      <td>5682.0</td>\n",
       "      <td>6275.0</td>\n",
       "      <td>6774.0</td>\n",
       "    </tr>\n",
       "    <tr>\n",
       "      <th>4</th>\n",
       "      <td>2019-09-01</td>\n",
       "      <td>2942.0</td>\n",
       "      <td>4518.0</td>\n",
       "      <td>5682.0</td>\n",
       "      <td>6275.0</td>\n",
       "      <td>6774.0</td>\n",
       "    </tr>\n",
       "  </tbody>\n",
       "</table>\n",
       "</div>"
      ],
      "text/plain": [
       "        date  6~7_ride_sum  7~8_ride_sum  8~9_ride_sum  9~10_ride_sum  \\\n",
       "0 2019-09-01        2942.0        4518.0        5682.0         6275.0   \n",
       "1 2019-09-01        2942.0        4518.0        5682.0         6275.0   \n",
       "2 2019-09-01        2942.0        4518.0        5682.0         6275.0   \n",
       "3 2019-09-01        2942.0        4518.0        5682.0         6275.0   \n",
       "4 2019-09-01        2942.0        4518.0        5682.0         6275.0   \n",
       "\n",
       "   10~11_ride_sum  \n",
       "0          6774.0  \n",
       "1          6774.0  \n",
       "2          6774.0  \n",
       "3          6774.0  \n",
       "4          6774.0  "
      ]
     },
     "execution_count": 17,
     "metadata": {},
     "output_type": "execute_result"
    }
   ],
   "source": [
    "df[['date','6~7_ride_sum','7~8_ride_sum','8~9_ride_sum','9~10_ride_sum',\n",
    "    '10~11_ride_sum']].head()"
   ]
  },
  {
   "cell_type": "markdown",
   "metadata": {},
   "source": [
    "## 1.2 도메인 조사를 통한 변수 생성"
   ]
  },
  {
   "cell_type": "markdown",
   "metadata": {},
   "source": [
    "### 1.2.1 배차간격 ( bus_interval )\n",
    "> 수요에 따라 배차 간격이 짧다."
   ]
  },
  {
   "cell_type": "code",
   "execution_count": 18,
   "metadata": {},
   "outputs": [],
   "source": [
    "# 탑승 날짜를 datetime형으로 변환\n",
    "bts['geton_time2'] = pd.to_datetime(bts['geton_time'])\n",
    "\n",
    "# 탑승 날짜, 탑승 정류장 코드, 탑승 노선 번호 기준으로 정렬\n",
    "f = bts.sort_values(by=['geton_date','geton_station_code','bus_route_id',\n",
    "                        'geton_time2'],ascending=True).reset_index()"
   ]
  },
  {
   "cell_type": "code",
   "execution_count": 19,
   "metadata": {},
   "outputs": [
    {
     "data": {
      "application/vnd.jupyter.widget-view+json": {
       "model_id": "c5a3145f7f9e4874bf59f8eef1f656be",
       "version_major": 2,
       "version_minor": 0
      },
      "text/plain": [
       "  0%|          | 0/2409413 [00:00<?, ?it/s]"
      ]
     },
     "metadata": {},
     "output_type": "display_data"
    }
   ],
   "source": [
    "# 반복문 실행 시간이 많이 소요되어 상태 진행률을 확인할 수 있는 tqdm 라이브러리 사용\n",
    "# 죄측에 지난시간, 우측에 남은시간\n",
    "from tqdm import notebook\n",
    "\n",
    "# 시차를 넣기 위한 빈 리스트 생성\n",
    "interval_lst = []\n",
    "for i in notebook.tqdm(range(0,len(f)-1)):\n",
    "    # 위에서 마지막으로 노선 번호 기준으로 정렬했기 때문에, i+1 과 비교할 수 있다.\n",
    "    # 탑승 날짜, 탑승 정류장 코드, 탑승 노선 번호가 같다면\n",
    "    if ((f.iloc[i].geton_date == f.iloc[i+1].geton_date) & \n",
    "        (f.iloc[i].geton_station_code == f.iloc[i+1].geton_station_code) & \n",
    "        (f.iloc[i].bus_route_id == f.iloc[i+1].bus_route_id)):\n",
    "        # 탑승 날짜의 차를 interval_lst에 넣기\n",
    "        interval_lst.append(f.iloc[i+1].geton_time2 - f.iloc[i].geton_time2)\n",
    "    else:\n",
    "       # 같지 않다면 0을 interval_lst에 넣기\n",
    "        interval_lst.append(0)\n",
    "\n",
    "interval_lst.insert(0, '0')"
   ]
  },
  {
   "cell_type": "code",
   "execution_count": 20,
   "metadata": {},
   "outputs": [],
   "source": [
    "f['interval'] = interval_lst # interval_lst를 'interval'변수로 생성 \n",
    "# 'interval' 변수의 값을 문자형으로 변환 후 '시:분:초'의 형태로 변환\n",
    "f['interval'] = f['interval'].astype(str).str[7:].replace('','00:00:00')\n",
    "f['bus_route_id'] = f['bus_route_id'].astype(object)"
   ]
  },
  {
   "cell_type": "code",
   "execution_count": 21,
   "metadata": {},
   "outputs": [],
   "source": [
    "# 분으로 변환하는 함수\n",
    "def get_min(time_str):\n",
    "    h, m, s = time_str.split(':')\n",
    "    return (int(h) * 3600 + int(m) * 60 + int(s)) / 60\n",
    "# 'interval' 함수의 모든 값에 대해 함수 적용하여 나온 값을 time리스트에 넣기\n",
    "time = []\n",
    "for i in f['interval'] :\n",
    "    time.append(get_min(i))\n",
    "\n",
    "f['time'] = time # time리스트를 'time' 변수로 생성\n",
    "f['time'] = f['time'].astype(int) # 'time' 변수를 int 타입으로 변경\n",
    "f = f[f['time'] > 3] # 간격이 3분보다 작은 것 제외 \n",
    "f = f[f['time'] < 180] # 간격이 3시간보다 큰 것 제외"
   ]
  },
  {
   "cell_type": "code",
   "execution_count": 22,
   "metadata": {},
   "outputs": [],
   "source": [
    "# 버스 노선별 버스 간격의 평균 'bus_interval’변수 생성\n",
    "data = f.groupby('bus_route_id')['time'].agg([('bus_interval', 'mean')]\n",
    "                                            ).reset_index()\n",
    "data['bus_interval'] = data['bus_interval'].astype(int)\n",
    "\n",
    "# 변수 생성에 많은 시간이 소요되므로 csv 파일로 저장\n",
    "data.to_csv('bus_interval.csv', index = False)"
   ]
  },
  {
   "cell_type": "code",
   "execution_count": 23,
   "metadata": {},
   "outputs": [],
   "source": [
    "# csv 파일이 성공적으로 저장됐다면 다음 과정부터 진행\n",
    "import numpy as np\n",
    "df['bus_route_id'] = df['bus_route_id'].astype(np.int64)\n",
    "bus_interval = pd.read_csv(\"bus_interval.csv\")\n",
    "\n",
    "# 기존의 데이터프레임에 새로운 변수를 병합\n",
    "df = pd.merge(df, bus_interval, how = 'left', on = 'bus_route_id')\n",
    "df['bus_interval'] = df['bus_interval'].fillna(9999) # 병합 중 생기는 NA값 처리"
   ]
  },
  {
   "cell_type": "code",
   "execution_count": 24,
   "metadata": {},
   "outputs": [
    {
     "data": {
      "text/html": [
       "<div>\n",
       "<style scoped>\n",
       "    .dataframe tbody tr th:only-of-type {\n",
       "        vertical-align: middle;\n",
       "    }\n",
       "\n",
       "    .dataframe tbody tr th {\n",
       "        vertical-align: top;\n",
       "    }\n",
       "\n",
       "    .dataframe thead th {\n",
       "        text-align: right;\n",
       "    }\n",
       "</style>\n",
       "<table border=\"1\" class=\"dataframe\">\n",
       "  <thead>\n",
       "    <tr style=\"text-align: right;\">\n",
       "      <th></th>\n",
       "      <th>bus_interval</th>\n",
       "    </tr>\n",
       "  </thead>\n",
       "  <tbody>\n",
       "    <tr>\n",
       "      <th>0</th>\n",
       "      <td>34.0</td>\n",
       "    </tr>\n",
       "    <tr>\n",
       "      <th>1</th>\n",
       "      <td>34.0</td>\n",
       "    </tr>\n",
       "    <tr>\n",
       "      <th>2</th>\n",
       "      <td>34.0</td>\n",
       "    </tr>\n",
       "    <tr>\n",
       "      <th>3</th>\n",
       "      <td>34.0</td>\n",
       "    </tr>\n",
       "    <tr>\n",
       "      <th>4</th>\n",
       "      <td>34.0</td>\n",
       "    </tr>\n",
       "  </tbody>\n",
       "</table>\n",
       "</div>"
      ],
      "text/plain": [
       "   bus_interval\n",
       "0          34.0\n",
       "1          34.0\n",
       "2          34.0\n",
       "3          34.0\n",
       "4          34.0"
      ]
     },
     "execution_count": 24,
     "metadata": {},
     "output_type": "execute_result"
    }
   ],
   "source": [
    "df[['bus_interval']].head()"
   ]
  },
  {
   "cell_type": "markdown",
   "metadata": {},
   "source": [
    "### 1.2.2 수요가 많을 것으로 예상되는 정류장 ( school, transfer )"
   ]
  },
  {
   "cell_type": "code",
   "execution_count": 25,
   "metadata": {},
   "outputs": [],
   "source": [
    "# school 변수 생성\n",
    "# 정류장명에 '고등학교'가 포함되어 있는 행 뽑기 \n",
    "highschool_station = df[df['station_name'].str.contains('고등학교')]\n",
    "# '고등학교'가 포함되어 있는 정류장명을 중복 없이 리스트에 저장\n",
    "highschool = list(highschool_station['station_name'].unique())\n",
    "# 정류장명에 '대학교'가 포함되어 있는 행 뽑기\n",
    "university_station = df[df['station_name'].str.contains('대학교')]\n",
    "# '대학교'가 포함되어 있는 정류장명을 중복 없이 리스트에 저장\n",
    "university = list(university_station['station_name'].unique())\n",
    "\n",
    "# '고등학교'와 '대학교' 근처 정류장 구분 함수\n",
    "def schoolstation(x):\n",
    "    # highschool 리스트에 정류장명이 포함되어 있다면 1을 반환\n",
    "    if x in highschool:\n",
    "        return 1\n",
    "    # university 리스트에 정류장명이 포함되어 있다면 1을 반환\n",
    "    elif x in university:\n",
    "        return 1\n",
    "    # 둘 다 포함되지 않는 정류장명이라면 0을 반환\n",
    "    else:\n",
    "        return 0\n",
    "\n",
    "# 모든 정류장명에 대해 적용\n",
    "df['school'] = df['station_name'].apply(schoolstation) "
   ]
  },
  {
   "cell_type": "code",
   "execution_count": 26,
   "metadata": {},
   "outputs": [
    {
     "data": {
      "text/html": [
       "<div>\n",
       "<style scoped>\n",
       "    .dataframe tbody tr th:only-of-type {\n",
       "        vertical-align: middle;\n",
       "    }\n",
       "\n",
       "    .dataframe tbody tr th {\n",
       "        vertical-align: top;\n",
       "    }\n",
       "\n",
       "    .dataframe thead th {\n",
       "        text-align: right;\n",
       "    }\n",
       "</style>\n",
       "<table border=\"1\" class=\"dataframe\">\n",
       "  <thead>\n",
       "    <tr style=\"text-align: right;\">\n",
       "      <th></th>\n",
       "      <th>school</th>\n",
       "    </tr>\n",
       "  </thead>\n",
       "  <tbody>\n",
       "    <tr>\n",
       "      <th>0</th>\n",
       "      <td>0</td>\n",
       "    </tr>\n",
       "    <tr>\n",
       "      <th>1</th>\n",
       "      <td>0</td>\n",
       "    </tr>\n",
       "    <tr>\n",
       "      <th>2</th>\n",
       "      <td>0</td>\n",
       "    </tr>\n",
       "    <tr>\n",
       "      <th>3</th>\n",
       "      <td>0</td>\n",
       "    </tr>\n",
       "    <tr>\n",
       "      <th>4</th>\n",
       "      <td>0</td>\n",
       "    </tr>\n",
       "  </tbody>\n",
       "</table>\n",
       "</div>"
      ],
      "text/plain": [
       "   school\n",
       "0       0\n",
       "1       0\n",
       "2       0\n",
       "3       0\n",
       "4       0"
      ]
     },
     "execution_count": 26,
     "metadata": {},
     "output_type": "execute_result"
    }
   ],
   "source": [
    "df[['school']].head()"
   ]
  },
  {
   "cell_type": "code",
   "execution_count": 27,
   "metadata": {},
   "outputs": [],
   "source": [
    "# school 변수와 동일한 방법으로 transfer 변수 생성\n",
    "transfer_station = df[df['station_name'].str.contains('환승')]\n",
    "transfers = list(transfer_station['station_name'].unique())\n",
    "\n",
    "airport_station = df[df['station_name'].str.contains('공항')]\n",
    "airport = list(airport_station['station_name'].unique())\n",
    "\n",
    "terminal_station = df[df['station_name'].str.contains('터미널')]\n",
    "terminal = list(terminal_station['station_name'].unique())\n",
    "\n",
    "# 항상 수요가 많은 정류장 구분 함수\n",
    "def transfer_station(x):\n",
    "    if x in transfers:\n",
    "        return 1\n",
    "    elif x in airport:\n",
    "        return 1\n",
    "    elif x in terminal:\n",
    "        return 1\n",
    "    else:\n",
    "        return 0\n",
    "\n",
    "df['transfer'] = df['station_name'].apply(transfer_station)"
   ]
  },
  {
   "cell_type": "code",
   "execution_count": 28,
   "metadata": {},
   "outputs": [
    {
     "data": {
      "text/html": [
       "<div>\n",
       "<style scoped>\n",
       "    .dataframe tbody tr th:only-of-type {\n",
       "        vertical-align: middle;\n",
       "    }\n",
       "\n",
       "    .dataframe tbody tr th {\n",
       "        vertical-align: top;\n",
       "    }\n",
       "\n",
       "    .dataframe thead th {\n",
       "        text-align: right;\n",
       "    }\n",
       "</style>\n",
       "<table border=\"1\" class=\"dataframe\">\n",
       "  <thead>\n",
       "    <tr style=\"text-align: right;\">\n",
       "      <th></th>\n",
       "      <th>transfer</th>\n",
       "    </tr>\n",
       "  </thead>\n",
       "  <tbody>\n",
       "    <tr>\n",
       "      <th>0</th>\n",
       "      <td>0</td>\n",
       "    </tr>\n",
       "    <tr>\n",
       "      <th>1</th>\n",
       "      <td>0</td>\n",
       "    </tr>\n",
       "    <tr>\n",
       "      <th>2</th>\n",
       "      <td>0</td>\n",
       "    </tr>\n",
       "    <tr>\n",
       "      <th>3</th>\n",
       "      <td>1</td>\n",
       "    </tr>\n",
       "    <tr>\n",
       "      <th>4</th>\n",
       "      <td>0</td>\n",
       "    </tr>\n",
       "  </tbody>\n",
       "</table>\n",
       "</div>"
      ],
      "text/plain": [
       "   transfer\n",
       "0         0\n",
       "1         0\n",
       "2         0\n",
       "3         1\n",
       "4         0"
      ]
     },
     "execution_count": 28,
     "metadata": {},
     "output_type": "execute_result"
    }
   ],
   "source": [
    "df[['transfer']].head()"
   ]
  },
  {
   "cell_type": "markdown",
   "metadata": {},
   "source": [
    "### 1.2.3 연휴 ( holiday )"
   ]
  },
  {
   "cell_type": "code",
   "execution_count": 29,
   "metadata": {},
   "outputs": [
    {
     "data": {
      "text/html": [
       "<div>\n",
       "<style scoped>\n",
       "    .dataframe tbody tr th:only-of-type {\n",
       "        vertical-align: middle;\n",
       "    }\n",
       "\n",
       "    .dataframe tbody tr th {\n",
       "        vertical-align: top;\n",
       "    }\n",
       "\n",
       "    .dataframe thead th {\n",
       "        text-align: right;\n",
       "    }\n",
       "</style>\n",
       "<table border=\"1\" class=\"dataframe\">\n",
       "  <thead>\n",
       "    <tr style=\"text-align: right;\">\n",
       "      <th></th>\n",
       "      <th>holiday</th>\n",
       "    </tr>\n",
       "  </thead>\n",
       "  <tbody>\n",
       "    <tr>\n",
       "      <th>0</th>\n",
       "      <td>0</td>\n",
       "    </tr>\n",
       "    <tr>\n",
       "      <th>1</th>\n",
       "      <td>0</td>\n",
       "    </tr>\n",
       "    <tr>\n",
       "      <th>2</th>\n",
       "      <td>0</td>\n",
       "    </tr>\n",
       "    <tr>\n",
       "      <th>3</th>\n",
       "      <td>0</td>\n",
       "    </tr>\n",
       "    <tr>\n",
       "      <th>4</th>\n",
       "      <td>0</td>\n",
       "    </tr>\n",
       "  </tbody>\n",
       "</table>\n",
       "</div>"
      ],
      "text/plain": [
       "   holiday\n",
       "0        0\n",
       "1        0\n",
       "2        0\n",
       "3        0\n",
       "4        0"
      ]
     },
     "execution_count": 29,
     "metadata": {},
     "output_type": "execute_result"
    }
   ],
   "source": [
    "# 날짜에서 연휴 구분 함수\n",
    "def holiday(x):\n",
    "    # 공휴일이라면 1을 반환\n",
    "    if x in ['2019-09-12','2019-09-13','2019-09-14','2019-10-03','2019-10-09']:\n",
    "        return 1\n",
    "    else:\n",
    "        # 공휴일이 아니라면 0을 반환\n",
    "        return 0\n",
    "\n",
    "    # 모든 날짜에 적용\n",
    "df['holiday'] = df['date'].apply(holiday)\n",
    "df[['holiday']].head()"
   ]
  },
  {
   "cell_type": "markdown",
   "metadata": {},
   "source": [
    "## 1.3 시간대를 활용한 변수 생성\n",
    "> 대회 규칙상, 오전시간의 데이터만으로 예측해야한다. 시간대를 활용해 변수를 만들어 보자"
   ]
  },
  {
   "cell_type": "markdown",
   "metadata": {},
   "source": [
    "### 1.3.1 t~t+2 승하차 시간대 통합 변수(68a, 810a, 1012a, 68b, 810b, 1012b)\n",
    "> 승차 시간간격(1h)과, 예측해야 하는 하차 시간간격(2h) 이 다르기 때문에 이를 통합하자."
   ]
  },
  {
   "cell_type": "code",
   "execution_count": 30,
   "metadata": {},
   "outputs": [],
   "source": [
    "# 오전 시간대에 2시간 동안 승차한 인원수의 합계\n",
    "df['68a'] = df['6~7_ride'] + df['7~8_ride'] \n",
    "df['810a'] = df['8~9_ride'] + df['9~10_ride']\n",
    "df['1012a'] = df['10~11_ride'] + df['11~12_ride']\n",
    "\n",
    "# 오전 시간대에 2시간 동안 하차한 인원수의 합계\n",
    "df['68b'] = df['6~7_takeoff'] + df['7~8_takeoff'] \n",
    "df['810b'] = df['8~9_takeoff'] + df['9~10_takeoff']\n",
    "df['1012b'] = df['10~11_takeoff'] + df['11~12_takeoff']"
   ]
  },
  {
   "cell_type": "code",
   "execution_count": 31,
   "metadata": {},
   "outputs": [
    {
     "data": {
      "text/html": [
       "<div>\n",
       "<style scoped>\n",
       "    .dataframe tbody tr th:only-of-type {\n",
       "        vertical-align: middle;\n",
       "    }\n",
       "\n",
       "    .dataframe tbody tr th {\n",
       "        vertical-align: top;\n",
       "    }\n",
       "\n",
       "    .dataframe thead th {\n",
       "        text-align: right;\n",
       "    }\n",
       "</style>\n",
       "<table border=\"1\" class=\"dataframe\">\n",
       "  <thead>\n",
       "    <tr style=\"text-align: right;\">\n",
       "      <th></th>\n",
       "      <th>68a</th>\n",
       "      <th>810a</th>\n",
       "      <th>1012a</th>\n",
       "      <th>68b</th>\n",
       "      <th>810b</th>\n",
       "      <th>1012b</th>\n",
       "    </tr>\n",
       "  </thead>\n",
       "  <tbody>\n",
       "    <tr>\n",
       "      <th>0</th>\n",
       "      <td>1.0</td>\n",
       "      <td>7.0</td>\n",
       "      <td>8.0</td>\n",
       "      <td>0.0</td>\n",
       "      <td>0.0</td>\n",
       "      <td>0.0</td>\n",
       "    </tr>\n",
       "    <tr>\n",
       "      <th>1</th>\n",
       "      <td>5.0</td>\n",
       "      <td>6.0</td>\n",
       "      <td>11.0</td>\n",
       "      <td>0.0</td>\n",
       "      <td>0.0</td>\n",
       "      <td>0.0</td>\n",
       "    </tr>\n",
       "    <tr>\n",
       "      <th>2</th>\n",
       "      <td>2.0</td>\n",
       "      <td>2.0</td>\n",
       "      <td>0.0</td>\n",
       "      <td>0.0</td>\n",
       "      <td>0.0</td>\n",
       "      <td>0.0</td>\n",
       "    </tr>\n",
       "    <tr>\n",
       "      <th>3</th>\n",
       "      <td>17.0</td>\n",
       "      <td>32.0</td>\n",
       "      <td>30.0</td>\n",
       "      <td>0.0</td>\n",
       "      <td>0.0</td>\n",
       "      <td>0.0</td>\n",
       "    </tr>\n",
       "    <tr>\n",
       "      <th>4</th>\n",
       "      <td>0.0</td>\n",
       "      <td>0.0</td>\n",
       "      <td>0.0</td>\n",
       "      <td>0.0</td>\n",
       "      <td>1.0</td>\n",
       "      <td>0.0</td>\n",
       "    </tr>\n",
       "  </tbody>\n",
       "</table>\n",
       "</div>"
      ],
      "text/plain": [
       "    68a  810a  1012a  68b  810b  1012b\n",
       "0   1.0   7.0    8.0  0.0   0.0    0.0\n",
       "1   5.0   6.0   11.0  0.0   0.0    0.0\n",
       "2   2.0   2.0    0.0  0.0   0.0    0.0\n",
       "3  17.0  32.0   30.0  0.0   0.0    0.0\n",
       "4   0.0   0.0    0.0  0.0   1.0    0.0"
      ]
     },
     "execution_count": 31,
     "metadata": {},
     "output_type": "execute_result"
    }
   ],
   "source": [
    "df[['68a', '810a', '1012a', '68b', '810b', '1012b']].head()"
   ]
  },
  {
   "cell_type": "markdown",
   "metadata": {},
   "source": [
    "### 1.3.2 오전 시간의 승객 수(ride_sum, takeoff_sum)\n",
    "> EDA - Visualize 에서 확인한대로 오전 시간의 승하차 인원 (출근) 인원이 많다면, 퇴근 시간의 승차 인원 (퇴근) 인원도 클 경향을 보일 것입니다."
   ]
  },
  {
   "cell_type": "code",
   "execution_count": 32,
   "metadata": {},
   "outputs": [],
   "source": [
    "# 오전 시간(6시~12시)에 승차한 승객 수의 합계\n",
    "df['ride_sum'] = df[['6~7_ride', '7~8_ride', '8~9_ride', '9~10_ride', \n",
    "                     '10~11_ride', '11~12_ride']].sum(axis=1)\n",
    "\n",
    "# 오전 시간(6시~12시)에 하차한 승객 수의 합계\n",
    "df['takeoff_sum'] = df[['6~7_takeoff', '7~8_takeoff', '8~9_takeoff', '9~10_takeoff',\n",
    "                        '10~11_takeoff', '11~12_takeoff']].sum(axis=1)"
   ]
  },
  {
   "cell_type": "code",
   "execution_count": 33,
   "metadata": {},
   "outputs": [
    {
     "data": {
      "text/html": [
       "<div>\n",
       "<style scoped>\n",
       "    .dataframe tbody tr th:only-of-type {\n",
       "        vertical-align: middle;\n",
       "    }\n",
       "\n",
       "    .dataframe tbody tr th {\n",
       "        vertical-align: top;\n",
       "    }\n",
       "\n",
       "    .dataframe thead th {\n",
       "        text-align: right;\n",
       "    }\n",
       "</style>\n",
       "<table border=\"1\" class=\"dataframe\">\n",
       "  <thead>\n",
       "    <tr style=\"text-align: right;\">\n",
       "      <th></th>\n",
       "      <th>ride_sum</th>\n",
       "      <th>takeoff_sum</th>\n",
       "    </tr>\n",
       "  </thead>\n",
       "  <tbody>\n",
       "    <tr>\n",
       "      <th>0</th>\n",
       "      <td>16.0</td>\n",
       "      <td>0.0</td>\n",
       "    </tr>\n",
       "    <tr>\n",
       "      <th>1</th>\n",
       "      <td>22.0</td>\n",
       "      <td>0.0</td>\n",
       "    </tr>\n",
       "    <tr>\n",
       "      <th>2</th>\n",
       "      <td>4.0</td>\n",
       "      <td>0.0</td>\n",
       "    </tr>\n",
       "    <tr>\n",
       "      <th>3</th>\n",
       "      <td>79.0</td>\n",
       "      <td>0.0</td>\n",
       "    </tr>\n",
       "    <tr>\n",
       "      <th>4</th>\n",
       "      <td>0.0</td>\n",
       "      <td>1.0</td>\n",
       "    </tr>\n",
       "  </tbody>\n",
       "</table>\n",
       "</div>"
      ],
      "text/plain": [
       "   ride_sum  takeoff_sum\n",
       "0      16.0          0.0\n",
       "1      22.0          0.0\n",
       "2       4.0          0.0\n",
       "3      79.0          0.0\n",
       "4       0.0          1.0"
      ]
     },
     "execution_count": 33,
     "metadata": {},
     "output_type": "execute_result"
    }
   ],
   "source": [
    "df[['ride_sum', 'takeoff_sum']].head()"
   ]
  },
  {
   "cell_type": "code",
   "execution_count": 34,
   "metadata": {},
   "outputs": [],
   "source": [
    "# 'bus_route_id'와 'station_code'를 결합해 route_station 생성\n",
    "df['route_station'] = df['bus_route_id'].astype(str) + ',' \\\n",
    "                    + df['station_code'].astype(str)\n",
    "\n",
    "# 버스노선별 오전시간의 총 승객수와 평균 승객수 구하기\n",
    "data = df.groupby(['route_station'])['1012a'].agg({'sum', 'mean'}).reset_index()\n",
    "\n",
    "# 변수명을 route_station, 1012a_mean, 1012a_sum으로 바꾸기\n",
    "data.rename(columns = {'mean':'1012a_mean', 'sum':'1012a_sum'}, inplace=True)\n",
    "\n",
    "# 기존의 데이터프레임에 새로운 변수를 병합\n",
    "df = pd.merge(df, data, how='left', on='route_station')"
   ]
  },
  {
   "cell_type": "code",
   "execution_count": 35,
   "metadata": {},
   "outputs": [
    {
     "data": {
      "text/html": [
       "<div>\n",
       "<style scoped>\n",
       "    .dataframe tbody tr th:only-of-type {\n",
       "        vertical-align: middle;\n",
       "    }\n",
       "\n",
       "    .dataframe tbody tr th {\n",
       "        vertical-align: top;\n",
       "    }\n",
       "\n",
       "    .dataframe thead th {\n",
       "        text-align: right;\n",
       "    }\n",
       "</style>\n",
       "<table border=\"1\" class=\"dataframe\">\n",
       "  <thead>\n",
       "    <tr style=\"text-align: right;\">\n",
       "      <th></th>\n",
       "      <th>1012a_mean</th>\n",
       "      <th>1012a_sum</th>\n",
       "    </tr>\n",
       "  </thead>\n",
       "  <tbody>\n",
       "    <tr>\n",
       "      <th>0</th>\n",
       "      <td>5.304348</td>\n",
       "      <td>244.0</td>\n",
       "    </tr>\n",
       "    <tr>\n",
       "      <th>1</th>\n",
       "      <td>11.608696</td>\n",
       "      <td>534.0</td>\n",
       "    </tr>\n",
       "    <tr>\n",
       "      <th>2</th>\n",
       "      <td>2.304348</td>\n",
       "      <td>106.0</td>\n",
       "    </tr>\n",
       "    <tr>\n",
       "      <th>3</th>\n",
       "      <td>36.673913</td>\n",
       "      <td>1687.0</td>\n",
       "    </tr>\n",
       "    <tr>\n",
       "      <th>4</th>\n",
       "      <td>0.564103</td>\n",
       "      <td>22.0</td>\n",
       "    </tr>\n",
       "  </tbody>\n",
       "</table>\n",
       "</div>"
      ],
      "text/plain": [
       "   1012a_mean  1012a_sum\n",
       "0    5.304348      244.0\n",
       "1   11.608696      534.0\n",
       "2    2.304348      106.0\n",
       "3   36.673913     1687.0\n",
       "4    0.564103       22.0"
      ]
     },
     "execution_count": 35,
     "metadata": {},
     "output_type": "execute_result"
    }
   ],
   "source": [
    "df[['1012a_mean','1012a_sum']].head()"
   ]
  },
  {
   "cell_type": "markdown",
   "metadata": {},
   "source": [
    "## 1.4 bus_bts 를 활용한 변수\n",
    "> EDA - Summary 에서 보았듯이 bus_bts.csv 를 통해 탑승한 승객의 정보를 추가로 파악할 수 있다. 승객 정보별 승객 수의 합과 비율 변수를 만듭니다."
   ]
  },
  {
   "cell_type": "markdown",
   "metadata": {},
   "source": [
    "### 1.4.1 카테고리별 승객 수의 합과 비율 (adult, kids, teen, elder, adult_prop, kids_prop, teen_prop, elder_prop)\n",
    "> 어느 정류장에 어떤 승객이 탑승하는지 알 수 있음"
   ]
  },
  {
   "cell_type": "code",
   "execution_count": 36,
   "metadata": {},
   "outputs": [],
   "source": [
    "# 카테고리별 승객 수의 합\n",
    "def category_people():\n",
    "    # df와 병합을 위해 bus_route_id의 타입을 str로 변환\n",
    "    bts['bus_route_id'] = bts['bus_route_id'].astype(str)\n",
    "\n",
    "    # bus_route_id와 user_category별 승객 수의 합\n",
    "    f = bts.groupby(\n",
    "        ['bus_route_id','user_category']\n",
    "    )['user_count'].agg([('승객수', 'sum')]).reset_index()\n",
    "\n",
    "    # bus_route_id별 user_category 변수의 승객수의 피벗 테이블 형태로 변환\n",
    "    g = pd.pivot_table(f, values='승객수', index='bus_route_id', \n",
    "                       columns='user_category', fill_value=0).reset_index()\n",
    "    g.columns = ['bus_route_id', 'adult','kids','teen','elder','jang','jang2',\n",
    "                 'ugong','ugong2']\n",
    "    g = g[['bus_route_id', 'adult','kids','teen','elder']]\n",
    "\n",
    "    # 기존의 데이터프레임에 새로운 변수를 병합\n",
    "    merge_data = pd.merge(df, g, how='left', on='bus_route_id')\n",
    "                 \n",
    "    return merge_data\n",
    "\n",
    "# bus_route_id의 타입을 str로 통일시켜준 뒤, 함수를 실행하여 변수 생성\n",
    "df['bus_route_id'] = df['bus_route_id'].astype(str)\n",
    "df = category_people()"
   ]
  },
  {
   "cell_type": "code",
   "execution_count": 37,
   "metadata": {},
   "outputs": [
    {
     "data": {
      "text/html": [
       "<div>\n",
       "<style scoped>\n",
       "    .dataframe tbody tr th:only-of-type {\n",
       "        vertical-align: middle;\n",
       "    }\n",
       "\n",
       "    .dataframe tbody tr th {\n",
       "        vertical-align: top;\n",
       "    }\n",
       "\n",
       "    .dataframe thead th {\n",
       "        text-align: right;\n",
       "    }\n",
       "</style>\n",
       "<table border=\"1\" class=\"dataframe\">\n",
       "  <thead>\n",
       "    <tr style=\"text-align: right;\">\n",
       "      <th></th>\n",
       "      <th>adult</th>\n",
       "      <th>kids</th>\n",
       "      <th>teen</th>\n",
       "      <th>elder</th>\n",
       "    </tr>\n",
       "  </thead>\n",
       "  <tbody>\n",
       "    <tr>\n",
       "      <th>0</th>\n",
       "      <td>8158.0</td>\n",
       "      <td>72.0</td>\n",
       "      <td>38.0</td>\n",
       "      <td>0.0</td>\n",
       "    </tr>\n",
       "    <tr>\n",
       "      <th>1</th>\n",
       "      <td>8158.0</td>\n",
       "      <td>72.0</td>\n",
       "      <td>38.0</td>\n",
       "      <td>0.0</td>\n",
       "    </tr>\n",
       "    <tr>\n",
       "      <th>2</th>\n",
       "      <td>8158.0</td>\n",
       "      <td>72.0</td>\n",
       "      <td>38.0</td>\n",
       "      <td>0.0</td>\n",
       "    </tr>\n",
       "    <tr>\n",
       "      <th>3</th>\n",
       "      <td>8158.0</td>\n",
       "      <td>72.0</td>\n",
       "      <td>38.0</td>\n",
       "      <td>0.0</td>\n",
       "    </tr>\n",
       "    <tr>\n",
       "      <th>4</th>\n",
       "      <td>8158.0</td>\n",
       "      <td>72.0</td>\n",
       "      <td>38.0</td>\n",
       "      <td>0.0</td>\n",
       "    </tr>\n",
       "  </tbody>\n",
       "</table>\n",
       "</div>"
      ],
      "text/plain": [
       "    adult  kids  teen  elder\n",
       "0  8158.0  72.0  38.0    0.0\n",
       "1  8158.0  72.0  38.0    0.0\n",
       "2  8158.0  72.0  38.0    0.0\n",
       "3  8158.0  72.0  38.0    0.0\n",
       "4  8158.0  72.0  38.0    0.0"
      ]
     },
     "execution_count": 37,
     "metadata": {},
     "output_type": "execute_result"
    }
   ],
   "source": [
    "df[['adult','kids','teen','elder']].head()"
   ]
  },
  {
   "cell_type": "code",
   "execution_count": 38,
   "metadata": {},
   "outputs": [],
   "source": [
    "# 카테고리별 승객 비율\n",
    "def category_people_ratio() :\n",
    "\n",
    "    # bus_route_id별 user_category의 전체 합\n",
    "    f_all = bts.groupby('bus_route_id'\n",
    "                       )['user_count'].agg([('전체', 'sum')]).reset_index()\n",
    "\n",
    "   # bus_route_id와 user_category별 승객 수의 합\n",
    "    f_sum = bts.groupby(['bus_route_id','user_category']\n",
    "                       )['user_count'].agg([('승객수', 'sum')]).reset_index()\n",
    "    \n",
    "    # 승객 수의 합을 전체 합으로 나눠줘 비율을 구함\n",
    "    data = pd.merge(f_all, f_sum, on='bus_route_id')\n",
    "    data['비율'] = data['승객수'] / data['전체']\n",
    "\n",
    "   # 피벗 테이블을 통해 bus_route_id별 user_category변수의 승객 비율 형태로 변환\n",
    "    data = pd.pivot_table(data, values='비율', index='bus_route_id', \n",
    "                          columns='user_category',fill_value=0).reset_index()\n",
    "    data.columns = ['bus_route_id', 'adult_prop','kids_prop','teen_prop',\n",
    "                    'elder_prop','jang_prop','jang2_prop','ugong_prop','ugong2_prop']\n",
    "    f = data[['bus_route_id', 'adult_prop','kids_prop','teen_prop','elder_prop']]\n",
    "\n",
    "    # 기존의 데이터프레임에 새로운 변수를 병합\n",
    "    merge_data = pd.merge(df, f, how='left', on='bus_route_id')\n",
    "\n",
    "    return merge_data\n",
    "\n",
    "# 함수를 실행하여 변수 생성\n",
    "df = category_people_ratio()"
   ]
  },
  {
   "cell_type": "code",
   "execution_count": 39,
   "metadata": {},
   "outputs": [
    {
     "data": {
      "text/html": [
       "<div>\n",
       "<style scoped>\n",
       "    .dataframe tbody tr th:only-of-type {\n",
       "        vertical-align: middle;\n",
       "    }\n",
       "\n",
       "    .dataframe tbody tr th {\n",
       "        vertical-align: top;\n",
       "    }\n",
       "\n",
       "    .dataframe thead th {\n",
       "        text-align: right;\n",
       "    }\n",
       "</style>\n",
       "<table border=\"1\" class=\"dataframe\">\n",
       "  <thead>\n",
       "    <tr style=\"text-align: right;\">\n",
       "      <th></th>\n",
       "      <th>adult_prop</th>\n",
       "      <th>kids_prop</th>\n",
       "      <th>teen_prop</th>\n",
       "      <th>elder_prop</th>\n",
       "    </tr>\n",
       "  </thead>\n",
       "  <tbody>\n",
       "    <tr>\n",
       "      <th>0</th>\n",
       "      <td>0.986696</td>\n",
       "      <td>0.008708</td>\n",
       "      <td>0.004596</td>\n",
       "      <td>0.0</td>\n",
       "    </tr>\n",
       "    <tr>\n",
       "      <th>1</th>\n",
       "      <td>0.986696</td>\n",
       "      <td>0.008708</td>\n",
       "      <td>0.004596</td>\n",
       "      <td>0.0</td>\n",
       "    </tr>\n",
       "    <tr>\n",
       "      <th>2</th>\n",
       "      <td>0.986696</td>\n",
       "      <td>0.008708</td>\n",
       "      <td>0.004596</td>\n",
       "      <td>0.0</td>\n",
       "    </tr>\n",
       "    <tr>\n",
       "      <th>3</th>\n",
       "      <td>0.986696</td>\n",
       "      <td>0.008708</td>\n",
       "      <td>0.004596</td>\n",
       "      <td>0.0</td>\n",
       "    </tr>\n",
       "    <tr>\n",
       "      <th>4</th>\n",
       "      <td>0.986696</td>\n",
       "      <td>0.008708</td>\n",
       "      <td>0.004596</td>\n",
       "      <td>0.0</td>\n",
       "    </tr>\n",
       "  </tbody>\n",
       "</table>\n",
       "</div>"
      ],
      "text/plain": [
       "   adult_prop  kids_prop  teen_prop  elder_prop\n",
       "0    0.986696   0.008708   0.004596         0.0\n",
       "1    0.986696   0.008708   0.004596         0.0\n",
       "2    0.986696   0.008708   0.004596         0.0\n",
       "3    0.986696   0.008708   0.004596         0.0\n",
       "4    0.986696   0.008708   0.004596         0.0"
      ]
     },
     "execution_count": 39,
     "metadata": {},
     "output_type": "execute_result"
    }
   ],
   "source": [
    "df[['adult_prop','kids_prop','teen_prop','elder_prop']].head()"
   ]
  },
  {
   "cell_type": "code",
   "execution_count": 40,
   "metadata": {},
   "outputs": [],
   "source": [
    "# 연속형 변수의 결측치를 평균값으로 처리할 수 있도록 SimpleImputer를 사용\n",
    "from sklearn.impute import SimpleImputer  \n",
    "\n",
    "# SimpleImputer를 사용할 변수 추출\n",
    "na_col = ['adult', 'kids', 'teen', 'elder', 'adult_prop', 'kids_prop', 'teen_prop',\n",
    "          'elder_prop']\n",
    "# 평균값으로 결측치 처리를 위해 strategy옵션을 mean으로 설정 \n",
    "imputer = SimpleImputer(strategy=\"mean\")\n",
    "# 각 변수에 대해 평균값을 구하고 결측치 대치를 위해 fit_transform을 사용\n",
    "df[na_col] = pd.DataFrame(imputer.fit_transform(df[na_col]), columns = na_col)"
   ]
  },
  {
   "cell_type": "markdown",
   "metadata": {},
   "source": [
    "## 1.5 좌표를 활용한 변수\n",
    "> 버스 정류장의 위치는 버스 승차 인원에 영향을 준다. 버스 정류장의 좌표를 활용해 위치 정보를 추가하는 변수 생성"
   ]
  },
  {
   "cell_type": "markdown",
   "metadata": {},
   "source": [
    "### 1.5.1 버스 정류장과 인구 밀집 지역 사이 거리 (dis_jejusi, dis_seoquiposi)\n",
    "> 제주시와 서귀포시 는 인구가 많으니 서귀포시와 제주시까지의 거리 변수 2개 생성"
   ]
  },
  {
   "cell_type": "code",
   "execution_count": 41,
   "metadata": {},
   "outputs": [],
   "source": [
    "import geopy.distance\n",
    "\n",
    "coords_jejusi = (33.500770, 126.522761) # 제주시의 위도 경도\n",
    "coords_seoquiposi = (33.259429, 126.558217) # 서귀포시의 위도 경도\n",
    "\n",
    "# 제주시와의 거리\n",
    "df['dis_jejusi'] = [geopy.distance.geodesic((df['latitude'].iloc[i],\n",
    "    df['longitude'].iloc[i]), coords_jejusi).km for i in range(len(df))]\n",
    "# 서귀포시와의 거리\n",
    "df['dis_seoquiposi'] = [geopy.distance.geodesic((df['latitude'].iloc[i],\n",
    "    df['longitude'].iloc[i]), coords_seoquiposi).km for i in range(len(df))]"
   ]
  },
  {
   "cell_type": "code",
   "execution_count": 42,
   "metadata": {},
   "outputs": [
    {
     "data": {
      "text/html": [
       "<div>\n",
       "<style scoped>\n",
       "    .dataframe tbody tr th:only-of-type {\n",
       "        vertical-align: middle;\n",
       "    }\n",
       "\n",
       "    .dataframe tbody tr th {\n",
       "        vertical-align: top;\n",
       "    }\n",
       "\n",
       "    .dataframe thead th {\n",
       "        text-align: right;\n",
       "    }\n",
       "</style>\n",
       "<table border=\"1\" class=\"dataframe\">\n",
       "  <thead>\n",
       "    <tr style=\"text-align: right;\">\n",
       "      <th></th>\n",
       "      <th>dis_jejusi</th>\n",
       "      <th>dis_seoquiposi</th>\n",
       "    </tr>\n",
       "  </thead>\n",
       "  <tbody>\n",
       "    <tr>\n",
       "      <th>0</th>\n",
       "      <td>2.954920</td>\n",
       "      <td>26.256744</td>\n",
       "    </tr>\n",
       "    <tr>\n",
       "      <th>1</th>\n",
       "      <td>3.720275</td>\n",
       "      <td>26.403025</td>\n",
       "    </tr>\n",
       "    <tr>\n",
       "      <th>2</th>\n",
       "      <td>5.036124</td>\n",
       "      <td>25.893305</td>\n",
       "    </tr>\n",
       "    <tr>\n",
       "      <th>3</th>\n",
       "      <td>2.864166</td>\n",
       "      <td>27.997494</td>\n",
       "    </tr>\n",
       "    <tr>\n",
       "      <th>4</th>\n",
       "      <td>29.040353</td>\n",
       "      <td>13.574693</td>\n",
       "    </tr>\n",
       "  </tbody>\n",
       "</table>\n",
       "</div>"
      ],
      "text/plain": [
       "   dis_jejusi  dis_seoquiposi\n",
       "0    2.954920       26.256744\n",
       "1    3.720275       26.403025\n",
       "2    5.036124       25.893305\n",
       "3    2.864166       27.997494\n",
       "4   29.040353       13.574693"
      ]
     },
     "execution_count": 42,
     "metadata": {},
     "output_type": "execute_result"
    }
   ],
   "source": [
    "df[['dis_jejusi', 'dis_seoquiposi']].head()"
   ]
  },
  {
   "cell_type": "markdown",
   "metadata": {},
   "source": [
    "### 1.5.2 탑승하는 승객의 수가 많은 버스 정류장과의 거리\n",
    "> 승차 인원 상위 10개의 버스 정류장 좌표로부터의 거리를 변수 10개 생성"
   ]
  },
  {
   "cell_type": "code",
   "execution_count": 43,
   "metadata": {},
   "outputs": [],
   "source": [
    "# 승차 인원 상위 10개의 버스정류장 좌표\n",
    "coords_jejusicheong1 = (33.49892, 126.53035) # 제주시청(광양 방면)의 위도 경도\n",
    "coords_jejuairport = (33.50661, 126.49345) # 제주국제공항(구제주 방면)의 위도 경도\n",
    "coords_hallahosp = (33.48963, 126.486) # 한라병원의 위도 경도\n",
    "coords_rotary = (33.49143, 126.49678) # 제주도청신제주로터리의 위도 경도\n",
    "coords_jejucenterhigh = (33.48902, 126.5392) # 제주중앙여자고등학교의 위도 경도\n",
    "coords_jejumarket = (33.51315, 126.52706) # 동문시장의 위도 경도\n",
    "coords_jejusclass = (33.47626, 126.48141) # 제주고등학교/중흥S클래스의 위도 경도\n",
    "coords_centerroad = (33.51073, 126.5239) # 중앙로(국민은행)의 위도 경도\n",
    "coords_fiveway = (33.48667, 126.48092) # 노형오거리의 위도 경도\n",
    "coords_law = (33.49363, 126.53476) # 제주지방법원(광양 방면)의 위도 경도\n",
    "\n",
    "# 승차 인원 상위 10개의 버스정류장 좌표와 각 정류장의 지구 표면에서 두 점 사이의 거리를 구함\n",
    "df['dis_jejusicheong1'] = [geopy.distance.geodesic((df['latitude'].iloc[i],\n",
    "    df['longitude'].iloc[i]), coords_jejusicheong1).km for i in range(len(df))]\n",
    "df['dis_jejuairport'] = [geopy.distance.geodesic((df['latitude'].iloc[i],\n",
    "    df['longitude'].iloc[i]), coords_jejuairport).km for i in range(len(df))]\n",
    "df['dis_hallahosp'] = [geopy.distance.geodesic((df['latitude'].iloc[i],\n",
    "    df['longitude'].iloc[i]), coords_hallahosp).km for i in range(len(df))]\n",
    "df['dis_rotary'] = [geopy.distance.geodesic((df['latitude'].iloc[i],\n",
    "    df['longitude'].iloc[i]), coords_rotary).km for i in range(len(df))]\n",
    "df['dis_jejucenterhigh'] = [geopy.distance.geodesic((df['latitude'].iloc[i],\n",
    "    df['longitude'].iloc[i]), coords_jejucenterhigh).km for i in range(len(df))]\n",
    "df['dis_jejumarket'] = [geopy.distance.geodesic((df['latitude'].iloc[i],\n",
    "    df['longitude'].iloc[i]), coords_jejumarket).km for i in range(len(df))]\n",
    "df['dis_jejusclass'] = [geopy.distance.geodesic((df['latitude'].iloc[i],\n",
    "    df['longitude'].iloc[i]), coords_jejusclass).km for i in range(len(df))]\n",
    "df['dis_centerroad'] = [geopy.distance.geodesic((df['latitude'].iloc[i],\n",
    "    df['longitude'].iloc[i]), coords_centerroad).km for i in range(len(df))]\n",
    "df['dis_fiveway'] = [geopy.distance.geodesic((df['latitude'].iloc[i],\n",
    "    df['longitude'].iloc[i]), coords_fiveway).km for i in range(len(df))]\n",
    "df['dis_law'] = [geopy.distance.geodesic((df['latitude'].iloc[i],\n",
    "    df['longitude'].iloc[i]), coords_law).km for i in range(len(df))]"
   ]
  },
  {
   "cell_type": "code",
   "execution_count": 44,
   "metadata": {},
   "outputs": [
    {
     "data": {
      "text/html": [
       "<div>\n",
       "<style scoped>\n",
       "    .dataframe tbody tr th:only-of-type {\n",
       "        vertical-align: middle;\n",
       "    }\n",
       "\n",
       "    .dataframe tbody tr th {\n",
       "        vertical-align: top;\n",
       "    }\n",
       "\n",
       "    .dataframe thead th {\n",
       "        text-align: right;\n",
       "    }\n",
       "</style>\n",
       "<table border=\"1\" class=\"dataframe\">\n",
       "  <thead>\n",
       "    <tr style=\"text-align: right;\">\n",
       "      <th></th>\n",
       "      <th>dis_jejusicheong1</th>\n",
       "      <th>dis_jejuairport</th>\n",
       "      <th>dis_hallahosp</th>\n",
       "      <th>dis_rotary</th>\n",
       "      <th>dis_jejucenterhigh</th>\n",
       "      <th>dis_jejumarket</th>\n",
       "      <th>dis_jejusclass</th>\n",
       "      <th>dis_centerroad</th>\n",
       "      <th>dis_fiveway</th>\n",
       "      <th>dis_law</th>\n",
       "    </tr>\n",
       "  </thead>\n",
       "  <tbody>\n",
       "    <tr>\n",
       "      <th>0</th>\n",
       "      <td>3.547051</td>\n",
       "      <td>1.853545</td>\n",
       "      <td>0.719000</td>\n",
       "      <td>0.330360</td>\n",
       "      <td>4.226827</td>\n",
       "      <td>4.030090</td>\n",
       "      <td>1.897319</td>\n",
       "      <td>3.632769</td>\n",
       "      <td>1.243233</td>\n",
       "      <td>3.835351</td>\n",
       "    </tr>\n",
       "    <tr>\n",
       "      <th>1</th>\n",
       "      <td>4.336294</td>\n",
       "      <td>2.057088</td>\n",
       "      <td>0.088058</td>\n",
       "      <td>1.109489</td>\n",
       "      <td>5.029806</td>\n",
       "      <td>4.704476</td>\n",
       "      <td>1.501101</td>\n",
       "      <td>4.311404</td>\n",
       "      <td>0.493820</td>\n",
       "      <td>4.640172</td>\n",
       "    </tr>\n",
       "    <tr>\n",
       "      <th>2</th>\n",
       "      <td>5.611975</td>\n",
       "      <td>3.316057</td>\n",
       "      <td>1.448297</td>\n",
       "      <td>2.410695</td>\n",
       "      <td>6.156335</td>\n",
       "      <td>6.069228</td>\n",
       "      <td>0.957447</td>\n",
       "      <td>5.675079</td>\n",
       "      <td>0.873821</td>\n",
       "      <td>5.840420</td>\n",
       "    </tr>\n",
       "    <tr>\n",
       "      <th>3</th>\n",
       "      <td>3.596334</td>\n",
       "      <td>0.127071</td>\n",
       "      <td>1.889890</td>\n",
       "      <td>1.639020</td>\n",
       "      <td>4.718848</td>\n",
       "      <td>3.311940</td>\n",
       "      <td>3.432034</td>\n",
       "      <td>2.967079</td>\n",
       "      <td>2.376926</td>\n",
       "      <td>4.149595</td>\n",
       "    </tr>\n",
       "    <tr>\n",
       "      <th>4</th>\n",
       "      <td>29.106917</td>\n",
       "      <td>28.818039</td>\n",
       "      <td>26.819826</td>\n",
       "      <td>27.283840</td>\n",
       "      <td>28.424280</td>\n",
       "      <td>30.466215</td>\n",
       "      <td>25.277182</td>\n",
       "      <td>30.112554</td>\n",
       "      <td>26.384623</td>\n",
       "      <td>28.724248</td>\n",
       "    </tr>\n",
       "  </tbody>\n",
       "</table>\n",
       "</div>"
      ],
      "text/plain": [
       "   dis_jejusicheong1  dis_jejuairport  dis_hallahosp  dis_rotary  \\\n",
       "0           3.547051         1.853545       0.719000    0.330360   \n",
       "1           4.336294         2.057088       0.088058    1.109489   \n",
       "2           5.611975         3.316057       1.448297    2.410695   \n",
       "3           3.596334         0.127071       1.889890    1.639020   \n",
       "4          29.106917        28.818039      26.819826   27.283840   \n",
       "\n",
       "   dis_jejucenterhigh  dis_jejumarket  dis_jejusclass  dis_centerroad  \\\n",
       "0            4.226827        4.030090        1.897319        3.632769   \n",
       "1            5.029806        4.704476        1.501101        4.311404   \n",
       "2            6.156335        6.069228        0.957447        5.675079   \n",
       "3            4.718848        3.311940        3.432034        2.967079   \n",
       "4           28.424280       30.466215       25.277182       30.112554   \n",
       "\n",
       "   dis_fiveway    dis_law  \n",
       "0     1.243233   3.835351  \n",
       "1     0.493820   4.640172  \n",
       "2     0.873821   5.840420  \n",
       "3     2.376926   4.149595  \n",
       "4    26.384623  28.724248  "
      ]
     },
     "execution_count": 44,
     "metadata": {},
     "output_type": "execute_result"
    }
   ],
   "source": [
    "df[['dis_jejusicheong1', 'dis_jejuairport', 'dis_hallahosp', 'dis_rotary',\n",
    "    'dis_jejucenterhigh', 'dis_jejumarket', 'dis_jejusclass', 'dis_centerroad',\n",
    "    'dis_fiveway', 'dis_law']].head()"
   ]
  },
  {
   "cell_type": "markdown",
   "metadata": {},
   "source": [
    "# 2. 외부 데이터를 통한 변수 생성\n",
    "- 법적 제약이 없는지\n",
    "- 데이터 누수에 해당하지 않는지\n",
    "- 기존 df 와 병합하는 과정 주의\n",
    "    - 정보 손실 최소화하도록 기준 변수 선택\n",
    "    - 병합하는 과정에서 발생하는 결측치 처리"
   ]
  },
  {
   "cell_type": "markdown",
   "metadata": {},
   "source": [
    "## 2.1 날씨를 활용한 변수\n",
    "> 4 곳의 기상관측소가 있으니, 우선적으로 각 버스정류장별 가장 가까운 측정소에 대한 변수를 먼저 생성"
   ]
  },
  {
   "cell_type": "markdown",
   "metadata": {},
   "source": [
    "### 2.1.1 버스 정류장과 각 측정소의 거리 (dis_jeju, dis_gosan, dis_seongsan, dis_po)"
   ]
  },
  {
   "cell_type": "code",
   "execution_count": 45,
   "metadata": {},
   "outputs": [],
   "source": [
    "# 측정소별 위도, 경도\n",
    "jeju = (33.51411, 126.52969) # 제주 측정소 근처\n",
    "gosan = (33.29382, 126.16283) # 고산 측정소 근처\n",
    "seongsan = (33.38677, 126.8802) # 성산 측정소 근처\n",
    "po = (33.24616, 126.5653) # 서귀포 측정소 근처\n",
    "\n",
    "# 버스정류장과 제주 측정소와의 거리\n",
    "t1 = [geopy.distance.geodesic((i,j), jeju).km\n",
    "      for i,j in list(zip(df['latitude'], df['longitude']))]\n",
    "df['dis_jeju'] = t1\n",
    "\n",
    "# 버스정류장과 고산 측정소와의 거리\n",
    "t2 = [geopy.distance.geodesic((i,j), gosan).km\n",
    "      for i,j in list(zip(df['latitude'], df['longitude']))]\n",
    "df['dis_gosan']=t2\n",
    "\n",
    "# 버스정류장과 성산 측정소와의 거리\n",
    "t3 = [geopy.distance.geodesic((i,j), seongsan).km\n",
    "      for i,j in list(zip(df['latitude'], df['longitude']))]\n",
    "df['dis_seongsan']=t3\n",
    "\n",
    "# 버스정류장과 서귀포 측정소와의 거리\n",
    "t4 = [geopy.distance.geodesic((i,j), po).km\n",
    "      for i,j in list(zip(df['latitude'], df['longitude']))]\n",
    "df['dis_po']=t4"
   ]
  },
  {
   "cell_type": "code",
   "execution_count": 46,
   "metadata": {},
   "outputs": [
    {
     "data": {
      "text/html": [
       "<div>\n",
       "<style scoped>\n",
       "    .dataframe tbody tr th:only-of-type {\n",
       "        vertical-align: middle;\n",
       "    }\n",
       "\n",
       "    .dataframe tbody tr th {\n",
       "        vertical-align: top;\n",
       "    }\n",
       "\n",
       "    .dataframe thead th {\n",
       "        text-align: right;\n",
       "    }\n",
       "</style>\n",
       "<table border=\"1\" class=\"dataframe\">\n",
       "  <thead>\n",
       "    <tr style=\"text-align: right;\">\n",
       "      <th></th>\n",
       "      <th>dis_jeju</th>\n",
       "      <th>dis_gosan</th>\n",
       "      <th>dis_seongsan</th>\n",
       "      <th>dis_po</th>\n",
       "    </tr>\n",
       "  </thead>\n",
       "  <tbody>\n",
       "    <tr>\n",
       "      <th>0</th>\n",
       "      <td>4.286659</td>\n",
       "      <td>37.692766</td>\n",
       "      <td>37.713630</td>\n",
       "      <td>27.841879</td>\n",
       "    </tr>\n",
       "    <tr>\n",
       "      <th>1</th>\n",
       "      <td>4.966848</td>\n",
       "      <td>37.008492</td>\n",
       "      <td>38.465822</td>\n",
       "      <td>27.996179</td>\n",
       "    </tr>\n",
       "    <tr>\n",
       "      <th>2</th>\n",
       "      <td>6.330746</td>\n",
       "      <td>35.642126</td>\n",
       "      <td>39.259820</td>\n",
       "      <td>27.496551</td>\n",
       "    </tr>\n",
       "    <tr>\n",
       "      <th>3</th>\n",
       "      <td>3.575272</td>\n",
       "      <td>38.643401</td>\n",
       "      <td>38.386802</td>\n",
       "      <td>29.579404</td>\n",
       "    </tr>\n",
       "    <tr>\n",
       "      <th>4</th>\n",
       "      <td>30.652098</td>\n",
       "      <td>23.648361</td>\n",
       "      <td>45.899140</td>\n",
       "      <td>14.269792</td>\n",
       "    </tr>\n",
       "  </tbody>\n",
       "</table>\n",
       "</div>"
      ],
      "text/plain": [
       "    dis_jeju  dis_gosan  dis_seongsan     dis_po\n",
       "0   4.286659  37.692766     37.713630  27.841879\n",
       "1   4.966848  37.008492     38.465822  27.996179\n",
       "2   6.330746  35.642126     39.259820  27.496551\n",
       "3   3.575272  38.643401     38.386802  29.579404\n",
       "4  30.652098  23.648361     45.899140  14.269792"
      ]
     },
     "execution_count": 46,
     "metadata": {},
     "output_type": "execute_result"
    }
   ],
   "source": [
    "df[['dis_jeju', 'dis_gosan', 'dis_seongsan', 'dis_po']].head()"
   ]
  },
  {
   "cell_type": "markdown",
   "metadata": {},
   "source": [
    "### 2.1.2 버스 정류장과 가장 가까운 측정소 (dist_name)\n",
    "> 위 거리 변수를 활용해 가장 가까운 측정소를 알아내자"
   ]
  },
  {
   "cell_type": "code",
   "execution_count": 47,
   "metadata": {},
   "outputs": [],
   "source": [
    "total = pd.DataFrame(list(zip(t1,t2,t3,t4)),\n",
    "                     columns=['jeju', 'gosan', 'seongsan', 'po'])\n",
    "df['dist_name'] = total.apply(lambda x: x.idxmin(), axis=1)"
   ]
  },
  {
   "cell_type": "code",
   "execution_count": 48,
   "metadata": {},
   "outputs": [
    {
     "data": {
      "text/html": [
       "<div>\n",
       "<style scoped>\n",
       "    .dataframe tbody tr th:only-of-type {\n",
       "        vertical-align: middle;\n",
       "    }\n",
       "\n",
       "    .dataframe tbody tr th {\n",
       "        vertical-align: top;\n",
       "    }\n",
       "\n",
       "    .dataframe thead th {\n",
       "        text-align: right;\n",
       "    }\n",
       "</style>\n",
       "<table border=\"1\" class=\"dataframe\">\n",
       "  <thead>\n",
       "    <tr style=\"text-align: right;\">\n",
       "      <th></th>\n",
       "      <th>dist_name</th>\n",
       "    </tr>\n",
       "  </thead>\n",
       "  <tbody>\n",
       "    <tr>\n",
       "      <th>0</th>\n",
       "      <td>jeju</td>\n",
       "    </tr>\n",
       "    <tr>\n",
       "      <th>1</th>\n",
       "      <td>jeju</td>\n",
       "    </tr>\n",
       "    <tr>\n",
       "      <th>2</th>\n",
       "      <td>jeju</td>\n",
       "    </tr>\n",
       "    <tr>\n",
       "      <th>3</th>\n",
       "      <td>jeju</td>\n",
       "    </tr>\n",
       "    <tr>\n",
       "      <th>4</th>\n",
       "      <td>po</td>\n",
       "    </tr>\n",
       "  </tbody>\n",
       "</table>\n",
       "</div>"
      ],
      "text/plain": [
       "  dist_name\n",
       "0      jeju\n",
       "1      jeju\n",
       "2      jeju\n",
       "3      jeju\n",
       "4        po"
      ]
     },
     "execution_count": 48,
     "metadata": {},
     "output_type": "execute_result"
    }
   ],
   "source": [
    "df[['dist_name']].head()"
   ]
  },
  {
   "cell_type": "markdown",
   "metadata": {},
   "source": [
    "### 2.1.3 지점별 기상정보 변수 (temperature, rainfall)\n",
    "> 누수를 방지하기 위해 오전 6 ~ 11 에 해당하는 정보만 편집"
   ]
  },
  {
   "cell_type": "code",
   "execution_count": 49,
   "metadata": {},
   "outputs": [],
   "source": [
    "# 변수명 변경 \n",
    "# ['지점', '일시', '기온(°C)', '강수량(mm)']\n",
    "# 변수명이 한글이면 오류가 날 수 있으니 영어로 변환\n",
    "rain.columns = ['dist_name', 'date', 'temperature', 'rainfall']\n",
    "\n",
    "# 비가 오지 않은 결측치 NA 값을 강수량 0 으로 바꿔줌\n",
    "# fillna 함수를 활용해 결측치를 0으로 치환\n",
    "rain = rain.fillna(0)\n",
    "\n",
    "# rain 데이터의 date 변수를 datetime 형태로 변환\n",
    "rain['date'] = pd.to_datetime(rain['date'])\n",
    "\n",
    "# 기존의 데이터프레임에 새로운 변수를 병합\n",
    "df = pd.merge(df, rain, how='left', on=['dist_name', 'date'])"
   ]
  },
  {
   "cell_type": "markdown",
   "metadata": {},
   "source": [
    "### 2.1.4 비의 유무를 나타내는 변수 (rainy_day)\n",
    "> 기상조건이 여러개 있지만, 그 중 비가 오고 안 오고가 critical 하기 때문에 따로 만듦"
   ]
  },
  {
   "cell_type": "code",
   "execution_count": 50,
   "metadata": {},
   "outputs": [],
   "source": [
    "def is_rainy(x):\n",
    "    if x == 0:\n",
    "        return 0 # 비 안오는 날\n",
    "    else:\n",
    "        return 1 # 비 오는 날\n",
    "\n",
    "df['rainy_day'] = df['rainfall'].apply(is_rainy)"
   ]
  },
  {
   "cell_type": "code",
   "execution_count": 51,
   "metadata": {},
   "outputs": [
    {
     "data": {
      "text/html": [
       "<div>\n",
       "<style scoped>\n",
       "    .dataframe tbody tr th:only-of-type {\n",
       "        vertical-align: middle;\n",
       "    }\n",
       "\n",
       "    .dataframe tbody tr th {\n",
       "        vertical-align: top;\n",
       "    }\n",
       "\n",
       "    .dataframe thead th {\n",
       "        text-align: right;\n",
       "    }\n",
       "</style>\n",
       "<table border=\"1\" class=\"dataframe\">\n",
       "  <thead>\n",
       "    <tr style=\"text-align: right;\">\n",
       "      <th></th>\n",
       "      <th>rainy_day</th>\n",
       "    </tr>\n",
       "  </thead>\n",
       "  <tbody>\n",
       "    <tr>\n",
       "      <th>0</th>\n",
       "      <td>0</td>\n",
       "    </tr>\n",
       "    <tr>\n",
       "      <th>1</th>\n",
       "      <td>0</td>\n",
       "    </tr>\n",
       "    <tr>\n",
       "      <th>2</th>\n",
       "      <td>0</td>\n",
       "    </tr>\n",
       "    <tr>\n",
       "      <th>3</th>\n",
       "      <td>0</td>\n",
       "    </tr>\n",
       "    <tr>\n",
       "      <th>4</th>\n",
       "      <td>0</td>\n",
       "    </tr>\n",
       "  </tbody>\n",
       "</table>\n",
       "</div>"
      ],
      "text/plain": [
       "   rainy_day\n",
       "0          0\n",
       "1          0\n",
       "2          0\n",
       "3          0\n",
       "4          0"
      ]
     },
     "execution_count": 51,
     "metadata": {},
     "output_type": "execute_result"
    }
   ],
   "source": [
    "df[['rainy_day']].head()"
   ]
  },
  {
   "cell_type": "markdown",
   "metadata": {},
   "source": [
    "## 2.2 jeju_financial_life_data 를 활용한 변수\n",
    "> 외부 데이터를 병합하려면 병합 기준이 되는 공통 변수가 하나 이상 있어야 함"
   ]
  },
  {
   "cell_type": "markdown",
   "metadata": {},
   "source": [
    "1. 위도, 경도 변수\n",
    "    - 기존의 df 의 위도 경도 변수와 jeju_financial_life_data 의 위도, 경도 변수의 형태가 달라 공통된 키가 될 수 없습니다.\n",
    "\n",
    "2. 행정구역 이름 변수\n",
    "    - 두 데이터 모두 행정 구역 이름 변수가 없지만, 위도/경도 변수를 통해 행정 구역 이름을 추출할 수 있습니다. 이 방법은 `3_jeju_life_location.ipynb` 파일에서 각 데이터의 위도/경도 변수를 통해 **새로운 csv 파일을 생성**하고 난 후, 아래 shell 을 수행하시기 바랍니다."
   ]
  },
  {
   "cell_type": "code",
   "execution_count": null,
   "metadata": {},
   "outputs": [],
   "source": []
  }
 ],
 "metadata": {
  "kernelspec": {
   "display_name": "Python 3",
   "language": "python",
   "name": "python3"
  },
  "language_info": {
   "codemirror_mode": {
    "name": "ipython",
    "version": 3
   },
   "file_extension": ".py",
   "mimetype": "text/x-python",
   "name": "python",
   "nbconvert_exporter": "python",
   "pygments_lexer": "ipython3",
   "version": "3.7.10"
  }
 },
 "nbformat": 4,
 "nbformat_minor": 4
}
